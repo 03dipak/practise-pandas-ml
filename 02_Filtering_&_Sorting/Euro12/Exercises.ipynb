{
  "nbformat": 4,
  "nbformat_minor": 0,
  "metadata": {
    "anaconda-cloud": {},
    "kernelspec": {
      "display_name": "Python [default]",
      "language": "python",
      "name": "python2"
    },
    "language_info": {
      "codemirror_mode": {
        "name": "ipython",
        "version": 2
      },
      "file_extension": ".py",
      "mimetype": "text/x-python",
      "name": "python",
      "nbconvert_exporter": "python",
      "pygments_lexer": "ipython2",
      "version": "2.7.12"
    },
    "colab": {
      "name": "Exercises.ipynb",
      "provenance": []
    }
  },
  "cells": [
    {
      "cell_type": "markdown",
      "metadata": {
        "id": "vadX7WRc4jV7",
        "colab_type": "text"
      },
      "source": [
        "# Ex2 - Filtering and Sorting Data"
      ]
    },
    {
      "cell_type": "markdown",
      "metadata": {
        "id": "ovq79U6-4jWA",
        "colab_type": "text"
      },
      "source": [
        "This time we are going to pull data directly from the internet.\n",
        "\n",
        "### Step 1. Import the necessary libraries"
      ]
    },
    {
      "cell_type": "code",
      "metadata": {
        "id": "tfyAYBkG4jWD",
        "colab_type": "code",
        "colab": {}
      },
      "source": [
        "import pandas as pd"
      ],
      "execution_count": 0,
      "outputs": []
    },
    {
      "cell_type": "markdown",
      "metadata": {
        "id": "FhdF61OF4jWI",
        "colab_type": "text"
      },
      "source": [
        "### Step 2. Import the dataset from this [address](https://raw.githubusercontent.com/guipsamora/pandas_exercises/master/02_Filtering_%26_Sorting/Euro12/Euro_2012_stats_TEAM.csv). "
      ]
    },
    {
      "cell_type": "markdown",
      "metadata": {
        "id": "MeXR92sb4jWK",
        "colab_type": "text"
      },
      "source": [
        "### Step 3. Assign it to a variable called euro12."
      ]
    },
    {
      "cell_type": "code",
      "metadata": {
        "id": "QXnb7y644jWL",
        "colab_type": "code",
        "colab": {}
      },
      "source": [
        "euro12 = pd.read_csv(\"https://raw.githubusercontent.com/guipsamora/pandas_exercises/master/02_Filtering_%26_Sorting/Euro12/Euro_2012_stats_TEAM.csv\",sep=',')"
      ],
      "execution_count": 0,
      "outputs": []
    },
    {
      "cell_type": "code",
      "metadata": {
        "id": "7MTAkK4z45aO",
        "colab_type": "code",
        "outputId": "e8865841-ab69-4a76-b65e-b254b557d5d0",
        "colab": {
          "base_uri": "https://localhost:8080/",
          "height": 292
        }
      },
      "source": [
        "euro12.head()"
      ],
      "execution_count": 0,
      "outputs": [
        {
          "output_type": "execute_result",
          "data": {
            "text/html": [
              "<div>\n",
              "<style scoped>\n",
              "    .dataframe tbody tr th:only-of-type {\n",
              "        vertical-align: middle;\n",
              "    }\n",
              "\n",
              "    .dataframe tbody tr th {\n",
              "        vertical-align: top;\n",
              "    }\n",
              "\n",
              "    .dataframe thead th {\n",
              "        text-align: right;\n",
              "    }\n",
              "</style>\n",
              "<table border=\"1\" class=\"dataframe\">\n",
              "  <thead>\n",
              "    <tr style=\"text-align: right;\">\n",
              "      <th></th>\n",
              "      <th>Team</th>\n",
              "      <th>Goals</th>\n",
              "      <th>Shots on target</th>\n",
              "      <th>Shots off target</th>\n",
              "      <th>Shooting Accuracy</th>\n",
              "      <th>% Goals-to-shots</th>\n",
              "      <th>Total shots (inc. Blocked)</th>\n",
              "      <th>Hit Woodwork</th>\n",
              "      <th>Penalty goals</th>\n",
              "      <th>Penalties not scored</th>\n",
              "      <th>Headed goals</th>\n",
              "      <th>Passes</th>\n",
              "      <th>Passes completed</th>\n",
              "      <th>Passing Accuracy</th>\n",
              "      <th>Touches</th>\n",
              "      <th>Crosses</th>\n",
              "      <th>Dribbles</th>\n",
              "      <th>Corners Taken</th>\n",
              "      <th>Tackles</th>\n",
              "      <th>Clearances</th>\n",
              "      <th>Interceptions</th>\n",
              "      <th>Clearances off line</th>\n",
              "      <th>Clean Sheets</th>\n",
              "      <th>Blocks</th>\n",
              "      <th>Goals conceded</th>\n",
              "      <th>Saves made</th>\n",
              "      <th>Saves-to-shots ratio</th>\n",
              "      <th>Fouls Won</th>\n",
              "      <th>Fouls Conceded</th>\n",
              "      <th>Offsides</th>\n",
              "      <th>Yellow Cards</th>\n",
              "      <th>Red Cards</th>\n",
              "      <th>Subs on</th>\n",
              "      <th>Subs off</th>\n",
              "      <th>Players Used</th>\n",
              "    </tr>\n",
              "  </thead>\n",
              "  <tbody>\n",
              "    <tr>\n",
              "      <th>0</th>\n",
              "      <td>Croatia</td>\n",
              "      <td>4</td>\n",
              "      <td>13</td>\n",
              "      <td>12</td>\n",
              "      <td>51.9%</td>\n",
              "      <td>16.0%</td>\n",
              "      <td>32</td>\n",
              "      <td>0</td>\n",
              "      <td>0</td>\n",
              "      <td>0</td>\n",
              "      <td>2</td>\n",
              "      <td>1076</td>\n",
              "      <td>828</td>\n",
              "      <td>76.9%</td>\n",
              "      <td>1706</td>\n",
              "      <td>60</td>\n",
              "      <td>42</td>\n",
              "      <td>14</td>\n",
              "      <td>49</td>\n",
              "      <td>83</td>\n",
              "      <td>56</td>\n",
              "      <td>NaN</td>\n",
              "      <td>0</td>\n",
              "      <td>10</td>\n",
              "      <td>3</td>\n",
              "      <td>13</td>\n",
              "      <td>81.3%</td>\n",
              "      <td>41</td>\n",
              "      <td>62</td>\n",
              "      <td>2</td>\n",
              "      <td>9</td>\n",
              "      <td>0</td>\n",
              "      <td>9</td>\n",
              "      <td>9</td>\n",
              "      <td>16</td>\n",
              "    </tr>\n",
              "    <tr>\n",
              "      <th>1</th>\n",
              "      <td>Czech Republic</td>\n",
              "      <td>4</td>\n",
              "      <td>13</td>\n",
              "      <td>18</td>\n",
              "      <td>41.9%</td>\n",
              "      <td>12.9%</td>\n",
              "      <td>39</td>\n",
              "      <td>0</td>\n",
              "      <td>0</td>\n",
              "      <td>0</td>\n",
              "      <td>0</td>\n",
              "      <td>1565</td>\n",
              "      <td>1223</td>\n",
              "      <td>78.1%</td>\n",
              "      <td>2358</td>\n",
              "      <td>46</td>\n",
              "      <td>68</td>\n",
              "      <td>21</td>\n",
              "      <td>62</td>\n",
              "      <td>98</td>\n",
              "      <td>37</td>\n",
              "      <td>2.0</td>\n",
              "      <td>1</td>\n",
              "      <td>10</td>\n",
              "      <td>6</td>\n",
              "      <td>9</td>\n",
              "      <td>60.1%</td>\n",
              "      <td>53</td>\n",
              "      <td>73</td>\n",
              "      <td>8</td>\n",
              "      <td>7</td>\n",
              "      <td>0</td>\n",
              "      <td>11</td>\n",
              "      <td>11</td>\n",
              "      <td>19</td>\n",
              "    </tr>\n",
              "    <tr>\n",
              "      <th>2</th>\n",
              "      <td>Denmark</td>\n",
              "      <td>4</td>\n",
              "      <td>10</td>\n",
              "      <td>10</td>\n",
              "      <td>50.0%</td>\n",
              "      <td>20.0%</td>\n",
              "      <td>27</td>\n",
              "      <td>1</td>\n",
              "      <td>0</td>\n",
              "      <td>0</td>\n",
              "      <td>3</td>\n",
              "      <td>1298</td>\n",
              "      <td>1082</td>\n",
              "      <td>83.3%</td>\n",
              "      <td>1873</td>\n",
              "      <td>43</td>\n",
              "      <td>32</td>\n",
              "      <td>16</td>\n",
              "      <td>40</td>\n",
              "      <td>61</td>\n",
              "      <td>59</td>\n",
              "      <td>0.0</td>\n",
              "      <td>1</td>\n",
              "      <td>10</td>\n",
              "      <td>5</td>\n",
              "      <td>10</td>\n",
              "      <td>66.7%</td>\n",
              "      <td>25</td>\n",
              "      <td>38</td>\n",
              "      <td>8</td>\n",
              "      <td>4</td>\n",
              "      <td>0</td>\n",
              "      <td>7</td>\n",
              "      <td>7</td>\n",
              "      <td>15</td>\n",
              "    </tr>\n",
              "    <tr>\n",
              "      <th>3</th>\n",
              "      <td>England</td>\n",
              "      <td>5</td>\n",
              "      <td>11</td>\n",
              "      <td>18</td>\n",
              "      <td>50.0%</td>\n",
              "      <td>17.2%</td>\n",
              "      <td>40</td>\n",
              "      <td>0</td>\n",
              "      <td>0</td>\n",
              "      <td>0</td>\n",
              "      <td>3</td>\n",
              "      <td>1488</td>\n",
              "      <td>1200</td>\n",
              "      <td>80.6%</td>\n",
              "      <td>2440</td>\n",
              "      <td>58</td>\n",
              "      <td>60</td>\n",
              "      <td>16</td>\n",
              "      <td>86</td>\n",
              "      <td>106</td>\n",
              "      <td>72</td>\n",
              "      <td>1.0</td>\n",
              "      <td>2</td>\n",
              "      <td>29</td>\n",
              "      <td>3</td>\n",
              "      <td>22</td>\n",
              "      <td>88.1%</td>\n",
              "      <td>43</td>\n",
              "      <td>45</td>\n",
              "      <td>6</td>\n",
              "      <td>5</td>\n",
              "      <td>0</td>\n",
              "      <td>11</td>\n",
              "      <td>11</td>\n",
              "      <td>16</td>\n",
              "    </tr>\n",
              "    <tr>\n",
              "      <th>4</th>\n",
              "      <td>France</td>\n",
              "      <td>3</td>\n",
              "      <td>22</td>\n",
              "      <td>24</td>\n",
              "      <td>37.9%</td>\n",
              "      <td>6.5%</td>\n",
              "      <td>65</td>\n",
              "      <td>1</td>\n",
              "      <td>0</td>\n",
              "      <td>0</td>\n",
              "      <td>0</td>\n",
              "      <td>2066</td>\n",
              "      <td>1803</td>\n",
              "      <td>87.2%</td>\n",
              "      <td>2909</td>\n",
              "      <td>55</td>\n",
              "      <td>76</td>\n",
              "      <td>28</td>\n",
              "      <td>71</td>\n",
              "      <td>76</td>\n",
              "      <td>58</td>\n",
              "      <td>0.0</td>\n",
              "      <td>1</td>\n",
              "      <td>7</td>\n",
              "      <td>5</td>\n",
              "      <td>6</td>\n",
              "      <td>54.6%</td>\n",
              "      <td>36</td>\n",
              "      <td>51</td>\n",
              "      <td>5</td>\n",
              "      <td>6</td>\n",
              "      <td>0</td>\n",
              "      <td>11</td>\n",
              "      <td>11</td>\n",
              "      <td>19</td>\n",
              "    </tr>\n",
              "  </tbody>\n",
              "</table>\n",
              "</div>"
            ],
            "text/plain": [
              "             Team  Goals  Shots on target  ...  Subs on Subs off Players Used\n",
              "0         Croatia      4               13  ...        9        9           16\n",
              "1  Czech Republic      4               13  ...       11       11           19\n",
              "2         Denmark      4               10  ...        7        7           15\n",
              "3         England      5               11  ...       11       11           16\n",
              "4          France      3               22  ...       11       11           19\n",
              "\n",
              "[5 rows x 35 columns]"
            ]
          },
          "metadata": {
            "tags": []
          },
          "execution_count": 3
        }
      ]
    },
    {
      "cell_type": "markdown",
      "metadata": {
        "id": "9j60mpt54jWQ",
        "colab_type": "text"
      },
      "source": [
        "### Step 4. Select only the Goal column."
      ]
    },
    {
      "cell_type": "code",
      "metadata": {
        "id": "XCnxigNt4jWR",
        "colab_type": "code",
        "outputId": "b6302a60-1b62-4429-c82b-597818c21af6",
        "colab": {
          "base_uri": "https://localhost:8080/",
          "height": 306
        }
      },
      "source": [
        "euro12.Goals"
      ],
      "execution_count": 0,
      "outputs": [
        {
          "output_type": "execute_result",
          "data": {
            "text/plain": [
              "0      4\n",
              "1      4\n",
              "2      4\n",
              "3      5\n",
              "4      3\n",
              "5     10\n",
              "6      5\n",
              "7      6\n",
              "8      2\n",
              "9      2\n",
              "10     6\n",
              "11     1\n",
              "12     5\n",
              "13    12\n",
              "14     5\n",
              "15     2\n",
              "Name: Goals, dtype: int64"
            ]
          },
          "metadata": {
            "tags": []
          },
          "execution_count": 4
        }
      ]
    },
    {
      "cell_type": "markdown",
      "metadata": {
        "id": "ld0GIzi84jWV",
        "colab_type": "text"
      },
      "source": [
        "### Step 5. How many team participated in the Euro2012?"
      ]
    },
    {
      "cell_type": "code",
      "metadata": {
        "id": "lBua0HfR4jWX",
        "colab_type": "code",
        "outputId": "3e17454e-26ff-4559-abb0-a5565c065897",
        "colab": {
          "base_uri": "https://localhost:8080/",
          "height": 34
        }
      },
      "source": [
        "euro12.Team.nunique()"
      ],
      "execution_count": 0,
      "outputs": [
        {
          "output_type": "execute_result",
          "data": {
            "text/plain": [
              "16"
            ]
          },
          "metadata": {
            "tags": []
          },
          "execution_count": 6
        }
      ]
    },
    {
      "cell_type": "markdown",
      "metadata": {
        "id": "PF2dp3pp4jWb",
        "colab_type": "text"
      },
      "source": [
        "### Step 6. What is the number of columns in the dataset?"
      ]
    },
    {
      "cell_type": "code",
      "metadata": {
        "id": "Xy8aMYKq4jWc",
        "colab_type": "code",
        "outputId": "b90512b2-2bc2-43a9-8074-3c1c22ced022",
        "colab": {
          "base_uri": "https://localhost:8080/",
          "height": 34
        }
      },
      "source": [
        "euro12.shape[1]"
      ],
      "execution_count": 0,
      "outputs": [
        {
          "output_type": "execute_result",
          "data": {
            "text/plain": [
              "35"
            ]
          },
          "metadata": {
            "tags": []
          },
          "execution_count": 9
        }
      ]
    },
    {
      "cell_type": "code",
      "metadata": {
        "id": "dTDdwgTs6Iyl",
        "colab_type": "code",
        "outputId": "b990e834-f8bf-4833-8cad-f9ff4b2d6934",
        "colab": {
          "base_uri": "https://localhost:8080/",
          "height": 204
        }
      },
      "source": [
        "euro12.columns"
      ],
      "execution_count": 0,
      "outputs": [
        {
          "output_type": "execute_result",
          "data": {
            "text/plain": [
              "Index([u'Team', u'Goals', u'Shots on target', u'Shots off target',\n",
              "       u'Shooting Accuracy', u'% Goals-to-shots',\n",
              "       u'Total shots (inc. Blocked)', u'Hit Woodwork', u'Penalty goals',\n",
              "       u'Penalties not scored', u'Headed goals', u'Passes',\n",
              "       u'Passes completed', u'Passing Accuracy', u'Touches', u'Crosses',\n",
              "       u'Dribbles', u'Corners Taken', u'Tackles', u'Clearances',\n",
              "       u'Interceptions', u'Clearances off line', u'Clean Sheets', u'Blocks',\n",
              "       u'Goals conceded', u'Saves made', u'Saves-to-shots ratio', u'Fouls Won',\n",
              "       u'Fouls Conceded', u'Offsides', u'Yellow Cards', u'Red Cards',\n",
              "       u'Subs on', u'Subs off', u'Players Used'],\n",
              "      dtype='object')"
            ]
          },
          "metadata": {
            "tags": []
          },
          "execution_count": 10
        }
      ]
    },
    {
      "cell_type": "markdown",
      "metadata": {
        "id": "GR9abET84jWg",
        "colab_type": "text"
      },
      "source": [
        "### Step 7. View only the columns Team, Yellow Cards and Red Cards and assign them to a dataframe called discipline"
      ]
    },
    {
      "cell_type": "code",
      "metadata": {
        "id": "spW4nlwG4jWi",
        "colab_type": "code",
        "outputId": "66d1ec0a-f0b2-4cce-8a40-99dcb88b7e2c",
        "colab": {
          "base_uri": "https://localhost:8080/",
          "height": 545
        }
      },
      "source": [
        "discipline = euro12[(euro12['Yellow Cards']>0)|(euro12['Red Cards']>0)]\n",
        "discipline[['Team','Yellow Cards','Red Cards']]"
      ],
      "execution_count": 0,
      "outputs": [
        {
          "output_type": "execute_result",
          "data": {
            "text/html": [
              "<div>\n",
              "<style scoped>\n",
              "    .dataframe tbody tr th:only-of-type {\n",
              "        vertical-align: middle;\n",
              "    }\n",
              "\n",
              "    .dataframe tbody tr th {\n",
              "        vertical-align: top;\n",
              "    }\n",
              "\n",
              "    .dataframe thead th {\n",
              "        text-align: right;\n",
              "    }\n",
              "</style>\n",
              "<table border=\"1\" class=\"dataframe\">\n",
              "  <thead>\n",
              "    <tr style=\"text-align: right;\">\n",
              "      <th></th>\n",
              "      <th>Team</th>\n",
              "      <th>Yellow Cards</th>\n",
              "      <th>Red Cards</th>\n",
              "    </tr>\n",
              "  </thead>\n",
              "  <tbody>\n",
              "    <tr>\n",
              "      <th>0</th>\n",
              "      <td>Croatia</td>\n",
              "      <td>9</td>\n",
              "      <td>0</td>\n",
              "    </tr>\n",
              "    <tr>\n",
              "      <th>1</th>\n",
              "      <td>Czech Republic</td>\n",
              "      <td>7</td>\n",
              "      <td>0</td>\n",
              "    </tr>\n",
              "    <tr>\n",
              "      <th>2</th>\n",
              "      <td>Denmark</td>\n",
              "      <td>4</td>\n",
              "      <td>0</td>\n",
              "    </tr>\n",
              "    <tr>\n",
              "      <th>3</th>\n",
              "      <td>England</td>\n",
              "      <td>5</td>\n",
              "      <td>0</td>\n",
              "    </tr>\n",
              "    <tr>\n",
              "      <th>4</th>\n",
              "      <td>France</td>\n",
              "      <td>6</td>\n",
              "      <td>0</td>\n",
              "    </tr>\n",
              "    <tr>\n",
              "      <th>5</th>\n",
              "      <td>Germany</td>\n",
              "      <td>4</td>\n",
              "      <td>0</td>\n",
              "    </tr>\n",
              "    <tr>\n",
              "      <th>6</th>\n",
              "      <td>Greece</td>\n",
              "      <td>9</td>\n",
              "      <td>1</td>\n",
              "    </tr>\n",
              "    <tr>\n",
              "      <th>7</th>\n",
              "      <td>Italy</td>\n",
              "      <td>16</td>\n",
              "      <td>0</td>\n",
              "    </tr>\n",
              "    <tr>\n",
              "      <th>8</th>\n",
              "      <td>Netherlands</td>\n",
              "      <td>5</td>\n",
              "      <td>0</td>\n",
              "    </tr>\n",
              "    <tr>\n",
              "      <th>9</th>\n",
              "      <td>Poland</td>\n",
              "      <td>7</td>\n",
              "      <td>1</td>\n",
              "    </tr>\n",
              "    <tr>\n",
              "      <th>10</th>\n",
              "      <td>Portugal</td>\n",
              "      <td>12</td>\n",
              "      <td>0</td>\n",
              "    </tr>\n",
              "    <tr>\n",
              "      <th>11</th>\n",
              "      <td>Republic of Ireland</td>\n",
              "      <td>6</td>\n",
              "      <td>1</td>\n",
              "    </tr>\n",
              "    <tr>\n",
              "      <th>12</th>\n",
              "      <td>Russia</td>\n",
              "      <td>6</td>\n",
              "      <td>0</td>\n",
              "    </tr>\n",
              "    <tr>\n",
              "      <th>13</th>\n",
              "      <td>Spain</td>\n",
              "      <td>11</td>\n",
              "      <td>0</td>\n",
              "    </tr>\n",
              "    <tr>\n",
              "      <th>14</th>\n",
              "      <td>Sweden</td>\n",
              "      <td>7</td>\n",
              "      <td>0</td>\n",
              "    </tr>\n",
              "    <tr>\n",
              "      <th>15</th>\n",
              "      <td>Ukraine</td>\n",
              "      <td>5</td>\n",
              "      <td>0</td>\n",
              "    </tr>\n",
              "  </tbody>\n",
              "</table>\n",
              "</div>"
            ],
            "text/plain": [
              "                   Team  Yellow Cards  Red Cards\n",
              "0               Croatia             9          0\n",
              "1        Czech Republic             7          0\n",
              "2               Denmark             4          0\n",
              "3               England             5          0\n",
              "4                France             6          0\n",
              "5               Germany             4          0\n",
              "6                Greece             9          1\n",
              "7                 Italy            16          0\n",
              "8           Netherlands             5          0\n",
              "9                Poland             7          1\n",
              "10             Portugal            12          0\n",
              "11  Republic of Ireland             6          1\n",
              "12               Russia             6          0\n",
              "13                Spain            11          0\n",
              "14               Sweden             7          0\n",
              "15              Ukraine             5          0"
            ]
          },
          "metadata": {
            "tags": []
          },
          "execution_count": 12
        }
      ]
    },
    {
      "cell_type": "markdown",
      "metadata": {
        "id": "ZxHQuJg-4jWm",
        "colab_type": "text"
      },
      "source": [
        "### Step 8. Sort the teams by Red Cards, then to Yellow Cards"
      ]
    },
    {
      "cell_type": "code",
      "metadata": {
        "scrolled": true,
        "id": "n-tbUFrl4jWn",
        "colab_type": "code",
        "outputId": "882c88e7-8a68-4b55-d3f0-8ff9f9dcd915",
        "colab": {
          "base_uri": "https://localhost:8080/",
          "height": 545
        }
      },
      "source": [
        "discipline.sort_values(['Red Cards','Yellow Cards'],ascending=False)[['Team','Yellow Cards','Red Cards']]\n"
      ],
      "execution_count": 0,
      "outputs": [
        {
          "output_type": "execute_result",
          "data": {
            "text/html": [
              "<div>\n",
              "<style scoped>\n",
              "    .dataframe tbody tr th:only-of-type {\n",
              "        vertical-align: middle;\n",
              "    }\n",
              "\n",
              "    .dataframe tbody tr th {\n",
              "        vertical-align: top;\n",
              "    }\n",
              "\n",
              "    .dataframe thead th {\n",
              "        text-align: right;\n",
              "    }\n",
              "</style>\n",
              "<table border=\"1\" class=\"dataframe\">\n",
              "  <thead>\n",
              "    <tr style=\"text-align: right;\">\n",
              "      <th></th>\n",
              "      <th>Team</th>\n",
              "      <th>Yellow Cards</th>\n",
              "      <th>Red Cards</th>\n",
              "    </tr>\n",
              "  </thead>\n",
              "  <tbody>\n",
              "    <tr>\n",
              "      <th>6</th>\n",
              "      <td>Greece</td>\n",
              "      <td>9</td>\n",
              "      <td>1</td>\n",
              "    </tr>\n",
              "    <tr>\n",
              "      <th>9</th>\n",
              "      <td>Poland</td>\n",
              "      <td>7</td>\n",
              "      <td>1</td>\n",
              "    </tr>\n",
              "    <tr>\n",
              "      <th>11</th>\n",
              "      <td>Republic of Ireland</td>\n",
              "      <td>6</td>\n",
              "      <td>1</td>\n",
              "    </tr>\n",
              "    <tr>\n",
              "      <th>7</th>\n",
              "      <td>Italy</td>\n",
              "      <td>16</td>\n",
              "      <td>0</td>\n",
              "    </tr>\n",
              "    <tr>\n",
              "      <th>10</th>\n",
              "      <td>Portugal</td>\n",
              "      <td>12</td>\n",
              "      <td>0</td>\n",
              "    </tr>\n",
              "    <tr>\n",
              "      <th>13</th>\n",
              "      <td>Spain</td>\n",
              "      <td>11</td>\n",
              "      <td>0</td>\n",
              "    </tr>\n",
              "    <tr>\n",
              "      <th>0</th>\n",
              "      <td>Croatia</td>\n",
              "      <td>9</td>\n",
              "      <td>0</td>\n",
              "    </tr>\n",
              "    <tr>\n",
              "      <th>1</th>\n",
              "      <td>Czech Republic</td>\n",
              "      <td>7</td>\n",
              "      <td>0</td>\n",
              "    </tr>\n",
              "    <tr>\n",
              "      <th>14</th>\n",
              "      <td>Sweden</td>\n",
              "      <td>7</td>\n",
              "      <td>0</td>\n",
              "    </tr>\n",
              "    <tr>\n",
              "      <th>4</th>\n",
              "      <td>France</td>\n",
              "      <td>6</td>\n",
              "      <td>0</td>\n",
              "    </tr>\n",
              "    <tr>\n",
              "      <th>12</th>\n",
              "      <td>Russia</td>\n",
              "      <td>6</td>\n",
              "      <td>0</td>\n",
              "    </tr>\n",
              "    <tr>\n",
              "      <th>3</th>\n",
              "      <td>England</td>\n",
              "      <td>5</td>\n",
              "      <td>0</td>\n",
              "    </tr>\n",
              "    <tr>\n",
              "      <th>8</th>\n",
              "      <td>Netherlands</td>\n",
              "      <td>5</td>\n",
              "      <td>0</td>\n",
              "    </tr>\n",
              "    <tr>\n",
              "      <th>15</th>\n",
              "      <td>Ukraine</td>\n",
              "      <td>5</td>\n",
              "      <td>0</td>\n",
              "    </tr>\n",
              "    <tr>\n",
              "      <th>2</th>\n",
              "      <td>Denmark</td>\n",
              "      <td>4</td>\n",
              "      <td>0</td>\n",
              "    </tr>\n",
              "    <tr>\n",
              "      <th>5</th>\n",
              "      <td>Germany</td>\n",
              "      <td>4</td>\n",
              "      <td>0</td>\n",
              "    </tr>\n",
              "  </tbody>\n",
              "</table>\n",
              "</div>"
            ],
            "text/plain": [
              "                   Team  Yellow Cards  Red Cards\n",
              "6                Greece             9          1\n",
              "9                Poland             7          1\n",
              "11  Republic of Ireland             6          1\n",
              "7                 Italy            16          0\n",
              "10             Portugal            12          0\n",
              "13                Spain            11          0\n",
              "0               Croatia             9          0\n",
              "1        Czech Republic             7          0\n",
              "14               Sweden             7          0\n",
              "4                France             6          0\n",
              "12               Russia             6          0\n",
              "3               England             5          0\n",
              "8           Netherlands             5          0\n",
              "15              Ukraine             5          0\n",
              "2               Denmark             4          0\n",
              "5               Germany             4          0"
            ]
          },
          "metadata": {
            "tags": []
          },
          "execution_count": 20
        }
      ]
    },
    {
      "cell_type": "markdown",
      "metadata": {
        "id": "oDPSV_144jWr",
        "colab_type": "text"
      },
      "source": [
        "### Step 9. Calculate the mean Yellow Cards given per Team"
      ]
    },
    {
      "cell_type": "code",
      "metadata": {
        "id": "UyZpQifF4jWs",
        "colab_type": "code",
        "colab": {}
      },
      "source": [
        ""
      ],
      "execution_count": 0,
      "outputs": []
    },
    {
      "cell_type": "markdown",
      "metadata": {
        "id": "bN0udhH54jWw",
        "colab_type": "text"
      },
      "source": [
        "### Step 10. Filter teams that scored more than 6 goals"
      ]
    },
    {
      "cell_type": "code",
      "metadata": {
        "id": "e_B0IuL64jWy",
        "colab_type": "code",
        "colab": {}
      },
      "source": [
        ""
      ],
      "execution_count": 0,
      "outputs": []
    },
    {
      "cell_type": "markdown",
      "metadata": {
        "id": "OYclN7Oi4jW2",
        "colab_type": "text"
      },
      "source": [
        "### Step 11. Select the teams that start with G"
      ]
    },
    {
      "cell_type": "code",
      "metadata": {
        "id": "TJAaiwAe4jW3",
        "colab_type": "code",
        "colab": {}
      },
      "source": [
        ""
      ],
      "execution_count": 0,
      "outputs": []
    },
    {
      "cell_type": "markdown",
      "metadata": {
        "id": "VgRQhdO64jW7",
        "colab_type": "text"
      },
      "source": [
        "### Step 12. Select the first 7 columns"
      ]
    },
    {
      "cell_type": "code",
      "metadata": {
        "id": "9AmXZvCf4jW8",
        "colab_type": "code",
        "colab": {}
      },
      "source": [
        ""
      ],
      "execution_count": 0,
      "outputs": []
    },
    {
      "cell_type": "markdown",
      "metadata": {
        "id": "Ctp-jo4g4jXE",
        "colab_type": "text"
      },
      "source": [
        "### Step 13. Select all columns except the last 3."
      ]
    },
    {
      "cell_type": "code",
      "metadata": {
        "id": "q3TVWrf54jXF",
        "colab_type": "code",
        "colab": {}
      },
      "source": [
        ""
      ],
      "execution_count": 0,
      "outputs": []
    },
    {
      "cell_type": "markdown",
      "metadata": {
        "id": "2dw7IynY4jXJ",
        "colab_type": "text"
      },
      "source": [
        "### Step 14. Present only the Shooting Accuracy from England, Italy and Russia"
      ]
    },
    {
      "cell_type": "code",
      "metadata": {
        "id": "JW6cw7AZ4jXK",
        "colab_type": "code",
        "colab": {}
      },
      "source": [
        ""
      ],
      "execution_count": 0,
      "outputs": []
    }
  ]
}