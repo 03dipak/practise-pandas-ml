{
  "nbformat": 4,
  "nbformat_minor": 0,
  "metadata": {
    "colab": {
      "name": "Untitled3.ipynb",
      "provenance": [],
      "include_colab_link": true
    },
    "kernelspec": {
      "name": "python3",
      "display_name": "Python 3"
    }
  },
  "cells": [
    {
      "cell_type": "markdown",
      "metadata": {
        "id": "view-in-github",
        "colab_type": "text"
      },
      "source": [
        "<a href=\"https://colab.research.google.com/github/03dipak/practise-pandas-ml/blob/master/Python-Data-Structure/Exercises001.ipynb\" target=\"_parent\"><img src=\"https://colab.research.google.com/assets/colab-badge.svg\" alt=\"Open In Colab\"/></a>"
      ]
    },
    {
      "cell_type": "code",
      "metadata": {
        "id": "5OjddhtF93hV",
        "colab_type": "code",
        "colab": {}
      },
      "source": [
        "from enum import Enum,IntEnum\n",
        "from collections import defaultdict,Counter,OrderedDict\n",
        "from array import array\n",
        "import binascii,bisect,heapq,queue"
      ],
      "execution_count": 0,
      "outputs": []
    },
    {
      "cell_type": "markdown",
      "metadata": {
        "id": "CnIv5H5l89Ne",
        "colab_type": "text"
      },
      "source": [
        "**1. Write a Python program to create an Enum object and display a member name and value**"
      ]
    },
    {
      "cell_type": "code",
      "metadata": {
        "id": "l4uIvPag87l8",
        "colab_type": "code",
        "outputId": "40378951-77aa-4526-dd80-68e0bc0f286d",
        "colab": {
          "base_uri": "https://localhost:8080/",
          "height": 51
        }
      },
      "source": [
        "class Country(Enum):\n",
        "  Afghanistan = 93\n",
        "  Albania = 355\n",
        "  Algeria = 213\n",
        "  Andorra = 376\n",
        "  Angola = 244\n",
        "  Antarctica = 672\n",
        "\n",
        "print(\"Member Name  :: {}\".format(Country.Albania.name))\n",
        "print(\"Member Value :: {}\".format(Country.Albania.value))"
      ],
      "execution_count": 0,
      "outputs": [
        {
          "output_type": "stream",
          "text": [
            "Member Name  :: Albania\n",
            "Member Value :: 355\n"
          ],
          "name": "stdout"
        }
      ]
    },
    {
      "cell_type": "markdown",
      "metadata": {
        "id": "dK0IMqSy_Kkp",
        "colab_type": "text"
      },
      "source": [
        "**2. Write a Python program to iterate over an enum class and display individual member and their value**"
      ]
    },
    {
      "cell_type": "code",
      "metadata": {
        "id": "F6gBxwd6-HO3",
        "colab_type": "code",
        "outputId": "38530328-d1a3-4bc0-aba6-886d51139df2",
        "colab": {
          "base_uri": "https://localhost:8080/",
          "height": 119
        }
      },
      "source": [
        "for data in Country:\n",
        "  print(\"{0} :: {1}\".format(data.name,data.value)) "
      ],
      "execution_count": 0,
      "outputs": [
        {
          "output_type": "stream",
          "text": [
            "Afghanistan :: 93\n",
            "Albania :: 355\n",
            "Algeria :: 213\n",
            "Andorra :: 376\n",
            "Angola :: 244\n",
            "Antarctica :: 672\n"
          ],
          "name": "stdout"
        }
      ]
    },
    {
      "cell_type": "markdown",
      "metadata": {
        "id": "WKIwCYkK2ODp",
        "colab_type": "text"
      },
      "source": [
        "**3. Write a Python program to display all the member name of an enum class ordered by their values**"
      ]
    },
    {
      "cell_type": "code",
      "metadata": {
        "id": "Hi7xJ_XBFSnw",
        "colab_type": "code",
        "outputId": "c9c1bd34-7cc6-4683-f841-13761c97b2f9",
        "colab": {
          "base_uri": "https://localhost:8080/",
          "height": 119
        }
      },
      "source": [
        "class Country(enum.IntEnum):\n",
        "    Afghanistan = 93\n",
        "    Albania = 355\n",
        "    Algeria = 213\n",
        "    Andorra = 376\n",
        "    Angola = 244\n",
        "    Antarctica = 672\n",
        "#print('Country Name ordered by Country Code:')\n",
        "#print('\\n'.join('  ' + c.name for c in sorted(Country)))\n",
        "for c in sorted(Country):\n",
        "  print(c.name)"
      ],
      "execution_count": 0,
      "outputs": [
        {
          "output_type": "stream",
          "text": [
            "Afghanistan\n",
            "Algeria\n",
            "Angola\n",
            "Albania\n",
            "Andorra\n",
            "Antarctica\n"
          ],
          "name": "stdout"
        }
      ]
    },
    {
      "cell_type": "markdown",
      "metadata": {
        "id": "zgC_4S8f2cev",
        "colab_type": "text"
      },
      "source": [
        "**4. Write a Python program to get all values from an enum class**"
      ]
    },
    {
      "cell_type": "code",
      "metadata": {
        "id": "vddkORSpH0Zb",
        "colab_type": "code",
        "outputId": "02eb48aa-92c1-40b6-b750-abd93b05db83",
        "colab": {
          "base_uri": "https://localhost:8080/",
          "height": 34
        }
      },
      "source": [
        "class Country(IntEnum):\n",
        "  Afghanistan = 93\n",
        "  Albania = 355\n",
        "  Algeria = 213\n",
        "  Andorra = 376\n",
        "  Angola = 244\n",
        "  Antarctica = 672\n",
        "\n",
        "Country_values = list(map(int,Country))\n",
        "Country_values"
      ],
      "execution_count": 0,
      "outputs": [
        {
          "output_type": "execute_result",
          "data": {
            "text/plain": [
              "[93, 355, 213, 376, 244, 672]"
            ]
          },
          "metadata": {
            "tags": []
          },
          "execution_count": 40
        }
      ]
    },
    {
      "cell_type": "markdown",
      "metadata": {
        "id": "iETniqIIQr0_",
        "colab_type": "text"
      },
      "source": [
        "**5. Write a Python program to count the most common words in a dictionary**"
      ]
    },
    {
      "cell_type": "code",
      "metadata": {
        "id": "aP1JdwBQ3Gnu",
        "colab_type": "code",
        "outputId": "78583173-df5c-432e-edd0-45f88a989e57",
        "colab": {
          "base_uri": "https://localhost:8080/",
          "height": 34
        }
      },
      "source": [
        "words = [\n",
        "   'red', 'green', 'black', 'pink', 'black', 'white', 'black', 'eyes',\n",
        "   'white', 'black', 'orange', 'pink', 'pink', 'red', 'red', 'white', 'orange',\n",
        "   'white', \"black\", 'pink', 'green', 'green', 'pink', 'green', 'pink',\n",
        "   'white', 'orange', \"orange\", 'red'\n",
        "]\n",
        "\n",
        "word_counts = Counter(words)\n",
        "top_four = word_counts.most_common(4)\n",
        "print(top_four)"
      ],
      "execution_count": 0,
      "outputs": [
        {
          "output_type": "stream",
          "text": [
            "[('pink', 6), ('black', 5), ('white', 5), ('red', 4)]\n"
          ],
          "name": "stdout"
        }
      ]
    },
    {
      "cell_type": "markdown",
      "metadata": {
        "id": "TUgsneejSHzR",
        "colab_type": "text"
      },
      "source": [
        "**6. Write a Python program to find the class wise roll number from a tuple-of-tuples**"
      ]
    },
    {
      "cell_type": "code",
      "metadata": {
        "id": "UO7F-CMmQrR1",
        "colab_type": "code",
        "outputId": "bd98c12a-1ba8-4514-ff0a-7d9d3c3b44e6",
        "colab": {
          "base_uri": "https://localhost:8080/",
          "height": 34
        }
      },
      "source": [
        "classes = (\n",
        "    ('V', 1),\n",
        "    ('VI', 1),\n",
        "    ('V', 2),\n",
        "    ('VI', 2),\n",
        "    ('VI', 3),\n",
        "    ('VII', 1),\n",
        ")\n",
        "\n",
        "class_rollno = defaultdict(list)\n",
        "\n",
        "for class_name, roll_id in classes:\n",
        "    class_rollno[class_name].append(roll_id)\n",
        "\n",
        "print(class_rollno)"
      ],
      "execution_count": 0,
      "outputs": [
        {
          "output_type": "stream",
          "text": [
            "defaultdict(<class 'list'>, {'V': [1, 2], 'VI': [1, 2, 3], 'VII': [1]})\n"
          ],
          "name": "stdout"
        }
      ]
    },
    {
      "cell_type": "markdown",
      "metadata": {
        "id": "syszs8BFUreW",
        "colab_type": "text"
      },
      "source": [
        "**7. Write a Python program to count the number of students of individual class**"
      ]
    },
    {
      "cell_type": "code",
      "metadata": {
        "id": "HetERSxNSqv-",
        "colab_type": "code",
        "outputId": "c506f012-b39a-41bd-dcc6-c87030485f0a",
        "colab": {
          "base_uri": "https://localhost:8080/",
          "height": 34
        }
      },
      "source": [
        "classes = (\n",
        "('V', 1),\n",
        "('VI', 1),\n",
        "('V', 2),\n",
        "('VI', 2),\n",
        "('VI', 3),\n",
        "('VII', 1),\n",
        ")\n",
        "\n",
        "studentCount = Counter(className for className,classRol in classes)\n",
        "print(studentCount)\n"
      ],
      "execution_count": 0,
      "outputs": [
        {
          "output_type": "stream",
          "text": [
            "Counter({'VI': 3, 'V': 2, 'VII': 1})\n"
          ],
          "name": "stdout"
        }
      ]
    },
    {
      "cell_type": "markdown",
      "metadata": {
        "id": "OMTQzGUefWG8",
        "colab_type": "text"
      },
      "source": [
        "**8.Write a Python program to get the unique enumeration values.**"
      ]
    },
    {
      "cell_type": "code",
      "metadata": {
        "id": "urqg3S2QU1ps",
        "colab_type": "code",
        "outputId": "31d07f28-2268-4f18-836f-44e1cb0ca7b7",
        "colab": {
          "base_uri": "https://localhost:8080/",
          "height": 102
        }
      },
      "source": [
        "class Countries(Enum):\n",
        "  Afghanistan = 93\n",
        "  Albania = 355\n",
        "  Algeria = 213\n",
        "  Andorra = 376\n",
        "  Angola = 244\n",
        "  India = 355\n",
        "  USA = 213\n",
        "\n",
        "for data in Countries:\n",
        "  print(\"{:15} : {}\".format(data.name,data.value))"
      ],
      "execution_count": 0,
      "outputs": [
        {
          "output_type": "stream",
          "text": [
            "Afghanistan     : 93\n",
            "Albania         : 355\n",
            "Algeria         : 213\n",
            "Andorra         : 376\n",
            "Angola          : 244\n"
          ],
          "name": "stdout"
        }
      ]
    },
    {
      "cell_type": "markdown",
      "metadata": {
        "id": "BW04XLROigLY",
        "colab_type": "text"
      },
      "source": [
        "**9. Write a Python program to create an instance of an OrderedDict using a given dictionary. Sort the dictionary during the creation and print the members of the dictionary in reverse order**"
      ]
    },
    {
      "cell_type": "code",
      "metadata": {
        "id": "GRUnbD0_fS3_",
        "colab_type": "code",
        "outputId": "b46c92ce-31b7-4c05-f78e-7395d317a552",
        "colab": {
          "base_uri": "https://localhost:8080/",
          "height": 221
        }
      },
      "source": [
        "dict = {'Afghanistan': 93, 'Albania': 355, 'Algeria': 213, 'Andorra': 376, 'Angola': 244}\n",
        "new_dict = OrderedDict(dict.items())\n",
        "for key in new_dict:\n",
        "    print (key, new_dict[key])\n",
        "\n",
        "print(\"\\nIn reverse order:\")\n",
        "for key in reversed(new_dict):\n",
        "    print (key, new_dict[key])"
      ],
      "execution_count": 0,
      "outputs": [
        {
          "output_type": "stream",
          "text": [
            "Afghanistan 93\n",
            "Albania 355\n",
            "Algeria 213\n",
            "Andorra 376\n",
            "Angola 244\n",
            "\n",
            "In reverse order:\n",
            "Angola 244\n",
            "Andorra 376\n",
            "Algeria 213\n",
            "Albania 355\n",
            "Afghanistan 93\n"
          ],
          "name": "stdout"
        }
      ]
    },
    {
      "cell_type": "markdown",
      "metadata": {
        "id": "oNcxwCUQxKDD",
        "colab_type": "text"
      },
      "source": [
        "**10. Write a Python program to group a sequence of key-value pairs into a dictionary of lists**"
      ]
    },
    {
      "cell_type": "code",
      "metadata": {
        "id": "bjbKgvQ0ihjL",
        "colab_type": "code",
        "outputId": "a33a840e-7033-4a31-8ca0-2325957de127",
        "colab": {
          "base_uri": "https://localhost:8080/",
          "height": 34
        }
      },
      "source": [
        "class_roll = [('v', 1), ('vi', 2), ('v', 3), ('vi', 4), ('vii', 1)]\n",
        "classDict = defaultdict(list)\n",
        "\n",
        "for key,value in class_roll:\n",
        "  classDict[key].append(value)\n",
        "\n",
        "print(sorted(classDict.items()))\n"
      ],
      "execution_count": 0,
      "outputs": [
        {
          "output_type": "stream",
          "text": [
            "[('v', [1, 3]), ('vi', [2, 4]), ('vii', [1])]\n"
          ],
          "name": "stdout"
        }
      ]
    },
    {
      "cell_type": "markdown",
      "metadata": {
        "id": "UoZApqYtLGTf",
        "colab_type": "text"
      },
      "source": [
        "**11.Write a Python program to compare two unordered lists (not sets)**"
      ]
    },
    {
      "cell_type": "code",
      "metadata": {
        "id": "X8O3h4rcxMCL",
        "colab_type": "code",
        "outputId": "c77f0bae-84a6-4e20-f317-bfe5f475cbcb",
        "colab": {
          "base_uri": "https://localhost:8080/",
          "height": 34
        }
      },
      "source": [
        "def compare_lists(x, y):\n",
        "    return Counter(x) == Counter(y)\n",
        "n1 = [20, 10, 30, 10, 20, 30]\n",
        "n2 = [30, 20, 10, 30, 20, 50]\n",
        "print(compare_lists(n1, n2))"
      ],
      "execution_count": 0,
      "outputs": [
        {
          "output_type": "stream",
          "text": [
            "False\n"
          ],
          "name": "stdout"
        }
      ]
    },
    {
      "cell_type": "markdown",
      "metadata": {
        "id": "5YPwn8r7MRWf",
        "colab_type": "text"
      },
      "source": [
        "**12. Write a Python program to create an array contains six integers. Also print all the members of the array**"
      ]
    },
    {
      "cell_type": "code",
      "metadata": {
        "id": "6v1kuNZLLifw",
        "colab_type": "code",
        "outputId": "b6393fea-effd-4887-af9d-e0aba95f31d4",
        "colab": {
          "base_uri": "https://localhost:8080/",
          "height": 102
        }
      },
      "source": [
        "arr = array(\"I\",[10,20,30,40,50])\n",
        "for item in arr:\n",
        "  print(item)"
      ],
      "execution_count": 0,
      "outputs": [
        {
          "output_type": "stream",
          "text": [
            "10\n",
            "20\n",
            "30\n",
            "40\n",
            "50\n"
          ],
          "name": "stdout"
        }
      ]
    },
    {
      "cell_type": "markdown",
      "metadata": {
        "id": "nEKJZNe-M9g_",
        "colab_type": "text"
      },
      "source": [
        "**13. Write a Python program to get the array size of types unsigned integer and float**"
      ]
    },
    {
      "cell_type": "code",
      "metadata": {
        "id": "a8E0DlSHMS7_",
        "colab_type": "code",
        "outputId": "a8f7598f-4db7-40b5-8e11-4320c4e96491",
        "colab": {
          "base_uri": "https://localhost:8080/",
          "height": 51
        }
      },
      "source": [
        "intarr = array(\"I\",[1,4])\n",
        "print(intarr.itemsize)\n",
        "\n",
        "floatarr = array(\"f\",[1.2,4.5])\n",
        "print(floatarr.itemsize)"
      ],
      "execution_count": 0,
      "outputs": [
        {
          "output_type": "stream",
          "text": [
            "4\n",
            "4\n"
          ],
          "name": "stdout"
        }
      ]
    },
    {
      "cell_type": "markdown",
      "metadata": {
        "id": "JaXT67vpOHyZ",
        "colab_type": "text"
      },
      "source": [
        "**14. Write a Python program to get an array buffer information**"
      ]
    },
    {
      "cell_type": "code",
      "metadata": {
        "id": "1Ev-hGmaNdeH",
        "colab_type": "code",
        "outputId": "ec3b623d-4aa0-47a7-af7d-a0807239bdff",
        "colab": {
          "base_uri": "https://localhost:8080/",
          "height": 34
        }
      },
      "source": [
        "myArr = array(\"I\",(1,2,4))\n",
        "print(myArr.buffer_info())"
      ],
      "execution_count": 0,
      "outputs": [
        {
          "output_type": "stream",
          "text": [
            "(140280787866720, 3)\n"
          ],
          "name": "stdout"
        }
      ]
    },
    {
      "cell_type": "markdown",
      "metadata": {
        "id": "9pFMk1VTOqs8",
        "colab_type": "text"
      },
      "source": [
        "**15. Write a Python program to get the length of an array**"
      ]
    },
    {
      "cell_type": "code",
      "metadata": {
        "id": "mpkjdM22Or5o",
        "colab_type": "code",
        "outputId": "7cd2c861-37b7-49e2-834c-4d01240949a7",
        "colab": {
          "base_uri": "https://localhost:8080/",
          "height": 34
        }
      },
      "source": [
        "myArr = array(\"I\",[1,9,6,7,2])\n",
        "len(myArr)"
      ],
      "execution_count": 0,
      "outputs": [
        {
          "output_type": "execute_result",
          "data": {
            "text/plain": [
              "5"
            ]
          },
          "metadata": {
            "tags": []
          },
          "execution_count": 21
        }
      ]
    },
    {
      "cell_type": "markdown",
      "metadata": {
        "id": "LVabXiJGPqJT",
        "colab_type": "text"
      },
      "source": [
        "**16. Write a Python program to convert an array to an ordinary list with the same items**"
      ]
    },
    {
      "cell_type": "code",
      "metadata": {
        "id": "ndjaeVeLOh2G",
        "colab_type": "code",
        "outputId": "c7a4b921-ed4a-4708-d6cf-adfc4307ab67",
        "colab": {
          "base_uri": "https://localhost:8080/",
          "height": 34
        }
      },
      "source": [
        "myArr = array('b', [1, 2, 3, 4])\n",
        "myList = myArr.tolist()\n",
        "print(myList)"
      ],
      "execution_count": 0,
      "outputs": [
        {
          "output_type": "stream",
          "text": [
            "[1, 2, 3, 4]\n"
          ],
          "name": "stdout"
        }
      ]
    },
    {
      "cell_type": "markdown",
      "metadata": {
        "id": "iAod5rQNSDW6",
        "colab_type": "text"
      },
      "source": [
        "**17. Write a Python program to convert an array to an array of machine values and return the bytes representation.**"
      ]
    },
    {
      "cell_type": "code",
      "metadata": {
        "id": "9NAKyoTMPrSc",
        "colab_type": "code",
        "outputId": "9b27d2e0-34c4-4af8-9b1b-3141c013830d",
        "colab": {
          "base_uri": "https://localhost:8080/",
          "height": 34
        }
      },
      "source": [
        "myArr = array('i', [1, 2, 3, 4, 5, 6])\n",
        "bytes_array = a.tobytes()\n",
        "print('Array of bytes:', binascii.hexlify(bytes_array))\n"
      ],
      "execution_count": 0,
      "outputs": [
        {
          "output_type": "stream",
          "text": [
            "Array of bytes: b'0100000004000000'\n"
          ],
          "name": "stdout"
        }
      ]
    },
    {
      "cell_type": "markdown",
      "metadata": {
        "id": "V4vBqfh8Tne4",
        "colab_type": "text"
      },
      "source": [
        "**18. Write a Python program to read a string and interpreting the string as an array of machine values.**"
      ]
    },
    {
      "cell_type": "code",
      "metadata": {
        "id": "ngSU5-XRSE1t",
        "colab_type": "code",
        "outputId": "e8f91a88-ed32-4631-a3d5-dafeb6a46c09",
        "colab": {
          "base_uri": "https://localhost:8080/",
          "height": 68
        }
      },
      "source": [
        "array1 = array('i', [7, 8, 9, 10])\n",
        "print('array1:', array1)\n",
        "as_bytes = array1.tobytes()\n",
        "print('Bytes:', binascii.hexlify(as_bytes))\n",
        "array2 = array('i')\n",
        "array2.frombytes(as_bytes)\n",
        "print('array2:', array2)\n"
      ],
      "execution_count": 0,
      "outputs": [
        {
          "output_type": "stream",
          "text": [
            "array1: array('i', [7, 8, 9, 10])\n",
            "Bytes: b'0700000008000000090000000a000000'\n",
            "array2: array('i', [7, 8, 9, 10])\n"
          ],
          "name": "stdout"
        }
      ]
    },
    {
      "cell_type": "markdown",
      "metadata": {
        "id": "9odZSB-uUXX2",
        "colab_type": "text"
      },
      "source": [
        "**19. Write a Python program to push three items into the heap and print the items from the heap.**"
      ]
    },
    {
      "cell_type": "code",
      "metadata": {
        "id": "bXA3IrKKUV6Z",
        "colab_type": "code",
        "colab": {
          "base_uri": "https://localhost:8080/",
          "height": 68
        },
        "outputId": "8bf752db-e8ea-46e6-aa76-a6e8593cf43e"
      },
      "source": [
        "heap = []\n",
        "heapq.heappush(heap, ('V', 1))\n",
        "heapq.heappush(heap, ('V', 2))\n",
        "heapq.heappush(heap, ('V', 3))\n",
        "for a in heap:\n",
        "\tprint(a)"
      ],
      "execution_count": 2,
      "outputs": [
        {
          "output_type": "stream",
          "text": [
            "('V', 1)\n",
            "('V', 2)\n",
            "('V', 3)\n"
          ],
          "name": "stdout"
        }
      ]
    },
    {
      "cell_type": "markdown",
      "metadata": {
        "id": "6Cv0jwqxamfn",
        "colab_type": "text"
      },
      "source": [
        "**20. Write a Python program to push three items into a heap and return the smallest item from the heap. Also Pop and return the smallest item from the heap.**"
      ]
    },
    {
      "cell_type": "code",
      "metadata": {
        "id": "E-2VwkbDakDc",
        "colab_type": "code",
        "colab": {
          "base_uri": "https://localhost:8080/",
          "height": 204
        },
        "outputId": "ae22b00b-bb10-4094-e224-c5e4709049b8"
      },
      "source": [
        "heap = []\n",
        "heapq.heappush(heap, ('V', 4))\n",
        "heapq.heappush(heap, ('V', 2))\n",
        "heapq.heappush(heap, ('V', 3))\n",
        "print(\"Items in the heap:\")\n",
        "for a in heap:\n",
        "\tprint(a)\n",
        "print(\"----------------------\")\n",
        "print(\"The smallest item in the heap:\")\n",
        "print(heap[0])\n",
        "print(\"----------------------\")\n",
        "print(\"Pop the smallest item in the heap:\")\n",
        "heapq.heappop(heap)\n",
        "for a in heap:\n",
        "\tprint(a)"
      ],
      "execution_count": 4,
      "outputs": [
        {
          "output_type": "stream",
          "text": [
            "Items in the heap:\n",
            "('V', 2)\n",
            "('V', 4)\n",
            "('V', 3)\n",
            "----------------------\n",
            "The smallest item in the heap:\n",
            "('V', 2)\n",
            "----------------------\n",
            "Pop the smallest item in the heap:\n",
            "('V', 3)\n",
            "('V', 4)\n"
          ],
          "name": "stdout"
        }
      ]
    },
    {
      "cell_type": "markdown",
      "metadata": {
        "id": "7eUTqZ5AdWsa",
        "colab_type": "text"
      },
      "source": [
        "**21. Write a Python program to push an item on the heap, then pop and return the smallest item from the heap**"
      ]
    },
    {
      "cell_type": "code",
      "metadata": {
        "id": "EZuaX6EAdSM7",
        "colab_type": "code",
        "colab": {
          "base_uri": "https://localhost:8080/",
          "height": 170
        },
        "outputId": "3d74db5f-fb73-471e-d18e-599cca019c88"
      },
      "source": [
        "heap = []\n",
        "heapq.heappush(heap, ('V', 3))\n",
        "heapq.heappush(heap, ('V', 2))\n",
        "heapq.heappush(heap, ('V', 1))\n",
        "print(\"Items in the heap:\")\n",
        "for a in heap:\n",
        "\tprint(a)\n",
        "print(\"----------------------\")\n",
        "print(\"Using heappushpop push item on the heap and return the smallest item.\")\n",
        "heapq.heappushpop(heap, ('V', 6))\n",
        "for a in heap:\n",
        "\tprint(a)"
      ],
      "execution_count": 5,
      "outputs": [
        {
          "output_type": "stream",
          "text": [
            "Items in the heap:\n",
            "('V', 1)\n",
            "('V', 3)\n",
            "('V', 2)\n",
            "----------------------\n",
            "Using heappushpop push item on the heap and return the smallest item.\n",
            "('V', 2)\n",
            "('V', 3)\n",
            "('V', 6)\n"
          ],
          "name": "stdout"
        }
      ]
    },
    {
      "cell_type": "markdown",
      "metadata": {
        "id": "Qw6UkidBfRz2",
        "colab_type": "text"
      },
      "source": [
        "**22.Write a Python program to create a heapsort, pushing all values onto a heap and then popping off the smallest values one at a time.**"
      ]
    },
    {
      "cell_type": "code",
      "metadata": {
        "id": "VXl5_y1leAhD",
        "colab_type": "code",
        "colab": {
          "base_uri": "https://localhost:8080/",
          "height": 34
        },
        "outputId": "3b6a2a24-60b0-46fa-f0f3-db87dc7e324d"
      },
      "source": [
        "def heapsort(h):\n",
        "    heap = []\n",
        "    for value in h:\n",
        "        heapq.heappush(heap, value)\n",
        "    \n",
        "    return [heapq.heappop(heap) for i in range(len(heap))]\n",
        "\n",
        "print(heapsort([10, 20, 50, 70, 90, 20, 50, 40, 60, 80, 100]))"
      ],
      "execution_count": 14,
      "outputs": [
        {
          "output_type": "stream",
          "text": [
            "[10, 20, 20, 40, 50, 50, 60, 70, 80, 90, 100]\n"
          ],
          "name": "stdout"
        }
      ]
    },
    {
      "cell_type": "markdown",
      "metadata": {
        "id": "cCXfBZT1fr4y",
        "colab_type": "text"
      },
      "source": [
        "**23. Write a Python program to get the two largest and three smallest items from a dataset.**"
      ]
    },
    {
      "cell_type": "code",
      "metadata": {
        "id": "2g4TQiB4fpOM",
        "colab_type": "code",
        "colab": {
          "base_uri": "https://localhost:8080/",
          "height": 51
        },
        "outputId": "593c1275-eaf0-4b16-c66d-654bfd890a14"
      },
      "source": [
        "h = [10, 20, 50, 70, 90, 20, 50, 40, 60, 80, 100]\n",
        "print(heapq.nlargest(2,h))\n",
        "print(heapq.nsmallest(3,h))"
      ],
      "execution_count": 16,
      "outputs": [
        {
          "output_type": "stream",
          "text": [
            "[100, 90]\n",
            "[10, 20, 20]\n"
          ],
          "name": "stdout"
        }
      ]
    },
    {
      "cell_type": "markdown",
      "metadata": {
        "id": "ObvL3UmlizL4",
        "colab_type": "text"
      },
      "source": [
        "**24. Write a Python program to locate the left insertion point for a specified value in sorted order.**"
      ]
    },
    {
      "cell_type": "code",
      "metadata": {
        "id": "JRVQrFWthMzG",
        "colab_type": "code",
        "colab": {
          "base_uri": "https://localhost:8080/",
          "height": 51
        },
        "outputId": "b4507d7d-e2db-4bc5-b47e-39925cfb53b9"
      },
      "source": [
        "def index(a, x):\n",
        "    i = bisect.bisect_left(a, x)\n",
        "    return i\n",
        "    \n",
        "a = [1,2,4,5]\n",
        "print(index(a, 6))\n",
        "print(index(a, 3))"
      ],
      "execution_count": 18,
      "outputs": [
        {
          "output_type": "stream",
          "text": [
            "4\n",
            "2\n"
          ],
          "name": "stdout"
        }
      ]
    },
    {
      "cell_type": "markdown",
      "metadata": {
        "id": "R582_BPLl0nn",
        "colab_type": "text"
      },
      "source": [
        "**25.Write a Python program to locate the right insertion point for a specified value in sorted order.**"
      ]
    },
    {
      "cell_type": "code",
      "metadata": {
        "id": "r_uHH7bRluS9",
        "colab_type": "code",
        "colab": {
          "base_uri": "https://localhost:8080/",
          "height": 51
        },
        "outputId": "4ce38d9a-9bca-46ad-bb7d-d59750d56625"
      },
      "source": [
        "def index(a, x):\n",
        "    i = bisect.bisect_right(a, x)\n",
        "    return i\n",
        "    \n",
        "a = [1,2,4,7]\n",
        "print(index(a, 6))\n",
        "print(index(a, 3))"
      ],
      "execution_count": 19,
      "outputs": [
        {
          "output_type": "stream",
          "text": [
            "3\n",
            "2\n"
          ],
          "name": "stdout"
        }
      ]
    },
    {
      "cell_type": "markdown",
      "metadata": {
        "id": "cFmQm3APoHz8",
        "colab_type": "text"
      },
      "source": [
        "**26.Write a Python program to insert items into a list in sorted order.**"
      ]
    },
    {
      "cell_type": "code",
      "metadata": {
        "id": "Q9MpE8Iwl9kk",
        "colab_type": "code",
        "colab": {
          "base_uri": "https://localhost:8080/",
          "height": 85
        },
        "outputId": "b2263625-7439-49e8-8764-b49da1e72c9a"
      },
      "source": [
        "my_list = [25, 45, 36, 47, 69, 48, 68, 78, 14, 36]\n",
        "\n",
        "print(\"Original List:\")\n",
        "print(my_list)\n",
        "sorted_list = []\n",
        "for i in my_list:\n",
        "    position = bisect.bisect(sorted_list, i)\n",
        "    bisect.insort(sorted_list, i)\n",
        "print(\"Sorted List:\")\n",
        "print(sorted_list)"
      ],
      "execution_count": 20,
      "outputs": [
        {
          "output_type": "stream",
          "text": [
            "Original List:\n",
            "[25, 45, 36, 47, 69, 48, 68, 78, 14, 36]\n",
            "Sorted List:\n",
            "[14, 25, 36, 36, 45, 47, 48, 68, 69, 78]\n"
          ],
          "name": "stdout"
        }
      ]
    },
    {
      "cell_type": "markdown",
      "metadata": {
        "id": "RVs2VDmyqfOX",
        "colab_type": "text"
      },
      "source": [
        "**27.Write a Python program to create a queue and display all the members and size of the queue.**"
      ]
    },
    {
      "cell_type": "code",
      "metadata": {
        "id": "_PUEZqRAoOjo",
        "colab_type": "code",
        "colab": {
          "base_uri": "https://localhost:8080/",
          "height": 85
        },
        "outputId": "4db24082-5c0e-4142-dda8-f4483ccd6154"
      },
      "source": [
        "q = queue.Queue()\n",
        "for x in range(4):\n",
        "    q.put(x)\n",
        "print(\"Members of the queue:\")\n",
        "y=z=q.qsize()\n",
        "\n",
        "for n in list(q.queue):\n",
        "    print(n, end=\" \")\n",
        "print(\"\\nSize of the queue:\")\n",
        "print(q.qsize())"
      ],
      "execution_count": 22,
      "outputs": [
        {
          "output_type": "stream",
          "text": [
            "Members of the queue:\n",
            "0 1 2 3 \n",
            "Size of the queue:\n",
            "4\n"
          ],
          "name": "stdout"
        }
      ]
    },
    {
      "cell_type": "markdown",
      "metadata": {
        "id": "5OgiMJCfru5M",
        "colab_type": "text"
      },
      "source": [
        "**28.Write a Python program to find whether a queue is empty or not.**"
      ]
    },
    {
      "cell_type": "code",
      "metadata": {
        "id": "Hzquk-QAqpmj",
        "colab_type": "code",
        "colab": {
          "base_uri": "https://localhost:8080/",
          "height": 51
        },
        "outputId": "a6b28127-6b95-4f89-8411-306c8540038f"
      },
      "source": [
        "p = queue.Queue()\n",
        "q = queue.Queue()\n",
        "for x in range(4):\n",
        "    q.put(x)\n",
        "print(p.empty())\n",
        "print(q.empty())"
      ],
      "execution_count": 23,
      "outputs": [
        {
          "output_type": "stream",
          "text": [
            "True\n",
            "False\n"
          ],
          "name": "stdout"
        }
      ]
    },
    {
      "cell_type": "markdown",
      "metadata": {
        "id": "ViDo4UYWsGl_",
        "colab_type": "text"
      },
      "source": [
        "**29.Write a Python program to create a FIFO queue.**"
      ]
    },
    {
      "cell_type": "code",
      "metadata": {
        "id": "zsD3DbNRr0kO",
        "colab_type": "code",
        "colab": {
          "base_uri": "https://localhost:8080/",
          "height": 51
        },
        "outputId": "2b4331ef-5812-4143-eff9-76f0d64e51e6"
      },
      "source": [
        "q = queue.Queue()\n",
        "#insert items at the end of the queue \n",
        "for x in range(4):\n",
        "    q.put(str(x))\n",
        "#remove items from the head of the queue \n",
        "while not q.empty():\n",
        "    print(q.get(), end=\" \")\n",
        "print(\"\\n\")"
      ],
      "execution_count": 24,
      "outputs": [
        {
          "output_type": "stream",
          "text": [
            "0 1 2 3 \n",
            "\n"
          ],
          "name": "stdout"
        }
      ]
    },
    {
      "cell_type": "markdown",
      "metadata": {
        "id": "tNKIchHLsedt",
        "colab_type": "text"
      },
      "source": [
        "**30.Write a Python program to create a LIFO queue.**"
      ]
    },
    {
      "cell_type": "code",
      "metadata": {
        "id": "qW1bnWj5sLnJ",
        "colab_type": "code",
        "colab": {
          "base_uri": "https://localhost:8080/",
          "height": 34
        },
        "outputId": "e68e39c7-df6f-4d6b-a97c-f64edb2cfae3"
      },
      "source": [
        "q = queue.LifoQueue()\n",
        "#insert items at the head of the queue \n",
        "for x in range(4):\n",
        "    q.put(str(x))\n",
        "#remove items from the head of the queue \n",
        "while not q.empty():\n",
        "    print(q.get(), end=\" \")\n",
        "print()"
      ],
      "execution_count": 25,
      "outputs": [
        {
          "output_type": "stream",
          "text": [
            "3 2 1 0 \n"
          ],
          "name": "stdout"
        }
      ]
    },
    {
      "cell_type": "code",
      "metadata": {
        "id": "Gn7A-XXcsixT",
        "colab_type": "code",
        "colab": {}
      },
      "source": [
        ""
      ],
      "execution_count": 0,
      "outputs": []
    }
  ]
}