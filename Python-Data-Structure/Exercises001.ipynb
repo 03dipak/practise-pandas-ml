{
  "nbformat": 4,
  "nbformat_minor": 0,
  "metadata": {
    "colab": {
      "name": "Untitled3.ipynb",
      "provenance": [],
      "include_colab_link": true
    },
    "kernelspec": {
      "name": "python3",
      "display_name": "Python 3"
    }
  },
  "cells": [
    {
      "cell_type": "markdown",
      "metadata": {
        "id": "view-in-github",
        "colab_type": "text"
      },
      "source": [
        "<a href=\"https://colab.research.google.com/github/03dipak/practise-pandas-ml/blob/master/Python-Data-Structure/Exercises001.ipynb\" target=\"_parent\"><img src=\"https://colab.research.google.com/assets/colab-badge.svg\" alt=\"Open In Colab\"/></a>"
      ]
    },
    {
      "cell_type": "code",
      "metadata": {
        "id": "5OjddhtF93hV",
        "colab_type": "code",
        "colab": {}
      },
      "source": [
        "from enum import Enum,IntEnum\n",
        "from collections import defaultdict,Counter,OrderedDict"
      ],
      "execution_count": 0,
      "outputs": []
    },
    {
      "cell_type": "markdown",
      "metadata": {
        "id": "CnIv5H5l89Ne",
        "colab_type": "text"
      },
      "source": [
        "**1. Write a Python program to create an Enum object and display a member name and value**"
      ]
    },
    {
      "cell_type": "code",
      "metadata": {
        "id": "l4uIvPag87l8",
        "colab_type": "code",
        "outputId": "40378951-77aa-4526-dd80-68e0bc0f286d",
        "colab": {
          "base_uri": "https://localhost:8080/",
          "height": 51
        }
      },
      "source": [
        "class Country(Enum):\n",
        "  Afghanistan = 93\n",
        "  Albania = 355\n",
        "  Algeria = 213\n",
        "  Andorra = 376\n",
        "  Angola = 244\n",
        "  Antarctica = 672\n",
        "\n",
        "print(\"Member Name  :: {}\".format(Country.Albania.name))\n",
        "print(\"Member Value :: {}\".format(Country.Albania.value))"
      ],
      "execution_count": 0,
      "outputs": [
        {
          "output_type": "stream",
          "text": [
            "Member Name  :: Albania\n",
            "Member Value :: 355\n"
          ],
          "name": "stdout"
        }
      ]
    },
    {
      "cell_type": "markdown",
      "metadata": {
        "id": "dK0IMqSy_Kkp",
        "colab_type": "text"
      },
      "source": [
        "**2. Write a Python program to iterate over an enum class and display individual member and their value**"
      ]
    },
    {
      "cell_type": "code",
      "metadata": {
        "id": "F6gBxwd6-HO3",
        "colab_type": "code",
        "outputId": "38530328-d1a3-4bc0-aba6-886d51139df2",
        "colab": {
          "base_uri": "https://localhost:8080/",
          "height": 119
        }
      },
      "source": [
        "for data in Country:\n",
        "  print(\"{0} :: {1}\".format(data.name,data.value)) "
      ],
      "execution_count": 0,
      "outputs": [
        {
          "output_type": "stream",
          "text": [
            "Afghanistan :: 93\n",
            "Albania :: 355\n",
            "Algeria :: 213\n",
            "Andorra :: 376\n",
            "Angola :: 244\n",
            "Antarctica :: 672\n"
          ],
          "name": "stdout"
        }
      ]
    },
    {
      "cell_type": "markdown",
      "metadata": {
        "id": "WKIwCYkK2ODp",
        "colab_type": "text"
      },
      "source": [
        "**3. Write a Python program to display all the member name of an enum class ordered by their values**"
      ]
    },
    {
      "cell_type": "code",
      "metadata": {
        "id": "Hi7xJ_XBFSnw",
        "colab_type": "code",
        "outputId": "c9c1bd34-7cc6-4683-f841-13761c97b2f9",
        "colab": {
          "base_uri": "https://localhost:8080/",
          "height": 119
        }
      },
      "source": [
        "class Country(enum.IntEnum):\n",
        "    Afghanistan = 93\n",
        "    Albania = 355\n",
        "    Algeria = 213\n",
        "    Andorra = 376\n",
        "    Angola = 244\n",
        "    Antarctica = 672\n",
        "#print('Country Name ordered by Country Code:')\n",
        "#print('\\n'.join('  ' + c.name for c in sorted(Country)))\n",
        "for c in sorted(Country):\n",
        "  print(c.name)"
      ],
      "execution_count": 0,
      "outputs": [
        {
          "output_type": "stream",
          "text": [
            "Afghanistan\n",
            "Algeria\n",
            "Angola\n",
            "Albania\n",
            "Andorra\n",
            "Antarctica\n"
          ],
          "name": "stdout"
        }
      ]
    },
    {
      "cell_type": "markdown",
      "metadata": {
        "id": "zgC_4S8f2cev",
        "colab_type": "text"
      },
      "source": [
        "**4. Write a Python program to get all values from an enum class**"
      ]
    },
    {
      "cell_type": "code",
      "metadata": {
        "id": "vddkORSpH0Zb",
        "colab_type": "code",
        "outputId": "02eb48aa-92c1-40b6-b750-abd93b05db83",
        "colab": {
          "base_uri": "https://localhost:8080/",
          "height": 34
        }
      },
      "source": [
        "class Country(IntEnum):\n",
        "  Afghanistan = 93\n",
        "  Albania = 355\n",
        "  Algeria = 213\n",
        "  Andorra = 376\n",
        "  Angola = 244\n",
        "  Antarctica = 672\n",
        "\n",
        "Country_values = list(map(int,Country))\n",
        "Country_values"
      ],
      "execution_count": 0,
      "outputs": [
        {
          "output_type": "execute_result",
          "data": {
            "text/plain": [
              "[93, 355, 213, 376, 244, 672]"
            ]
          },
          "metadata": {
            "tags": []
          },
          "execution_count": 40
        }
      ]
    },
    {
      "cell_type": "markdown",
      "metadata": {
        "id": "iETniqIIQr0_",
        "colab_type": "text"
      },
      "source": [
        "**5. Write a Python program to count the most common words in a dictionary**"
      ]
    },
    {
      "cell_type": "code",
      "metadata": {
        "id": "aP1JdwBQ3Gnu",
        "colab_type": "code",
        "outputId": "78583173-df5c-432e-edd0-45f88a989e57",
        "colab": {
          "base_uri": "https://localhost:8080/",
          "height": 34
        }
      },
      "source": [
        "words = [\n",
        "   'red', 'green', 'black', 'pink', 'black', 'white', 'black', 'eyes',\n",
        "   'white', 'black', 'orange', 'pink', 'pink', 'red', 'red', 'white', 'orange',\n",
        "   'white', \"black\", 'pink', 'green', 'green', 'pink', 'green', 'pink',\n",
        "   'white', 'orange', \"orange\", 'red'\n",
        "]\n",
        "\n",
        "word_counts = Counter(words)\n",
        "top_four = word_counts.most_common(4)\n",
        "print(top_four)"
      ],
      "execution_count": 6,
      "outputs": [
        {
          "output_type": "stream",
          "text": [
            "[('pink', 6), ('black', 5), ('white', 5), ('red', 4)]\n"
          ],
          "name": "stdout"
        }
      ]
    },
    {
      "cell_type": "markdown",
      "metadata": {
        "id": "TUgsneejSHzR",
        "colab_type": "text"
      },
      "source": [
        "**6. Write a Python program to find the class wise roll number from a tuple-of-tuples**"
      ]
    },
    {
      "cell_type": "code",
      "metadata": {
        "id": "UO7F-CMmQrR1",
        "colab_type": "code",
        "colab": {
          "base_uri": "https://localhost:8080/",
          "height": 34
        },
        "outputId": "bd98c12a-1ba8-4514-ff0a-7d9d3c3b44e6"
      },
      "source": [
        "classes = (\n",
        "    ('V', 1),\n",
        "    ('VI', 1),\n",
        "    ('V', 2),\n",
        "    ('VI', 2),\n",
        "    ('VI', 3),\n",
        "    ('VII', 1),\n",
        ")\n",
        "\n",
        "class_rollno = defaultdict(list)\n",
        "\n",
        "for class_name, roll_id in classes:\n",
        "    class_rollno[class_name].append(roll_id)\n",
        "\n",
        "print(class_rollno)"
      ],
      "execution_count": 9,
      "outputs": [
        {
          "output_type": "stream",
          "text": [
            "defaultdict(<class 'list'>, {'V': [1, 2], 'VI': [1, 2, 3], 'VII': [1]})\n"
          ],
          "name": "stdout"
        }
      ]
    },
    {
      "cell_type": "markdown",
      "metadata": {
        "id": "syszs8BFUreW",
        "colab_type": "text"
      },
      "source": [
        "**7. Write a Python program to count the number of students of individual class**"
      ]
    },
    {
      "cell_type": "code",
      "metadata": {
        "id": "HetERSxNSqv-",
        "colab_type": "code",
        "colab": {
          "base_uri": "https://localhost:8080/",
          "height": 34
        },
        "outputId": "c506f012-b39a-41bd-dcc6-c87030485f0a"
      },
      "source": [
        "classes = (\n",
        "('V', 1),\n",
        "('VI', 1),\n",
        "('V', 2),\n",
        "('VI', 2),\n",
        "('VI', 3),\n",
        "('VII', 1),\n",
        ")\n",
        "\n",
        "studentCount = Counter(className for className,classRol in classes)\n",
        "print(studentCount)\n"
      ],
      "execution_count": 14,
      "outputs": [
        {
          "output_type": "stream",
          "text": [
            "Counter({'VI': 3, 'V': 2, 'VII': 1})\n"
          ],
          "name": "stdout"
        }
      ]
    },
    {
      "cell_type": "markdown",
      "metadata": {
        "id": "OMTQzGUefWG8",
        "colab_type": "text"
      },
      "source": [
        "**8.Write a Python program to get the unique enumeration values.**"
      ]
    },
    {
      "cell_type": "code",
      "metadata": {
        "id": "urqg3S2QU1ps",
        "colab_type": "code",
        "colab": {
          "base_uri": "https://localhost:8080/",
          "height": 102
        },
        "outputId": "31d07f28-2268-4f18-836f-44e1cb0ca7b7"
      },
      "source": [
        "class Countries(Enum):\n",
        "  Afghanistan = 93\n",
        "  Albania = 355\n",
        "  Algeria = 213\n",
        "  Andorra = 376\n",
        "  Angola = 244\n",
        "  India = 355\n",
        "  USA = 213\n",
        "\n",
        "for data in Countries:\n",
        "  print(\"{:15} : {}\".format(data.name,data.value))"
      ],
      "execution_count": 17,
      "outputs": [
        {
          "output_type": "stream",
          "text": [
            "Afghanistan     : 93\n",
            "Albania         : 355\n",
            "Algeria         : 213\n",
            "Andorra         : 376\n",
            "Angola          : 244\n"
          ],
          "name": "stdout"
        }
      ]
    },
    {
      "cell_type": "markdown",
      "metadata": {
        "id": "BW04XLROigLY",
        "colab_type": "text"
      },
      "source": [
        "**9. Write a Python program to create an instance of an OrderedDict using a given dictionary. Sort the dictionary during the creation and print the members of the dictionary in reverse order**"
      ]
    },
    {
      "cell_type": "code",
      "metadata": {
        "id": "GRUnbD0_fS3_",
        "colab_type": "code",
        "colab": {
          "base_uri": "https://localhost:8080/",
          "height": 221
        },
        "outputId": "b46c92ce-31b7-4c05-f78e-7395d317a552"
      },
      "source": [
        "dict = {'Afghanistan': 93, 'Albania': 355, 'Algeria': 213, 'Andorra': 376, 'Angola': 244}\n",
        "new_dict = OrderedDict(dict.items())\n",
        "for key in new_dict:\n",
        "    print (key, new_dict[key])\n",
        "\n",
        "print(\"\\nIn reverse order:\")\n",
        "for key in reversed(new_dict):\n",
        "    print (key, new_dict[key])"
      ],
      "execution_count": 19,
      "outputs": [
        {
          "output_type": "stream",
          "text": [
            "Afghanistan 93\n",
            "Albania 355\n",
            "Algeria 213\n",
            "Andorra 376\n",
            "Angola 244\n",
            "\n",
            "In reverse order:\n",
            "Angola 244\n",
            "Andorra 376\n",
            "Algeria 213\n",
            "Albania 355\n",
            "Afghanistan 93\n"
          ],
          "name": "stdout"
        }
      ]
    },
    {
      "cell_type": "code",
      "metadata": {
        "id": "bjbKgvQ0ihjL",
        "colab_type": "code",
        "colab": {}
      },
      "source": [
        ""
      ],
      "execution_count": 0,
      "outputs": []
    }
  ]
}