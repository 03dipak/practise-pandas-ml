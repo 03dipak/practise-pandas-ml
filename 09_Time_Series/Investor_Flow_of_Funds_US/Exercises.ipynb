{
  "nbformat": 4,
  "nbformat_minor": 0,
  "metadata": {
    "kernelspec": {
      "display_name": "Python 2",
      "language": "python",
      "name": "python2"
    },
    "language_info": {
      "codemirror_mode": {
        "name": "ipython",
        "version": 2
      },
      "file_extension": ".py",
      "mimetype": "text/x-python",
      "name": "python",
      "nbconvert_exporter": "python",
      "pygments_lexer": "ipython2",
      "version": "2.7.11"
    },
    "colab": {
      "name": "Exercises.ipynb",
      "provenance": [],
      "include_colab_link": true
    }
  },
  "cells": [
    {
      "cell_type": "markdown",
      "metadata": {
        "id": "view-in-github",
        "colab_type": "text"
      },
      "source": [
        "<a href=\"https://colab.research.google.com/github/03dipak/practise-pandas-ml/blob/master/09_Time_Series/Investor_Flow_of_Funds_US/Exercises.ipynb\" target=\"_parent\"><img src=\"https://colab.research.google.com/assets/colab-badge.svg\" alt=\"Open In Colab\"/></a>"
      ]
    },
    {
      "cell_type": "markdown",
      "metadata": {
        "id": "F8BeswPxThFs",
        "colab_type": "text"
      },
      "source": [
        "# Investor - Flow of Funds - US"
      ]
    },
    {
      "cell_type": "markdown",
      "metadata": {
        "id": "aJL7hMoxThFx",
        "colab_type": "text"
      },
      "source": [
        "### Introduction:\n",
        "\n",
        "Special thanks to: https://github.com/rgrp for sharing the dataset.\n",
        "\n",
        "### Step 1. Import the necessary libraries"
      ]
    },
    {
      "cell_type": "code",
      "metadata": {
        "id": "iHKu0Ij4ThFy",
        "colab_type": "code",
        "colab": {}
      },
      "source": [
        ""
      ],
      "execution_count": 0,
      "outputs": []
    },
    {
      "cell_type": "markdown",
      "metadata": {
        "id": "cemrQ-mtThF-",
        "colab_type": "text"
      },
      "source": [
        "### Step 2. Import the dataset from this [address](https://raw.githubusercontent.com/datasets/investor-flow-of-funds-us/master/data/weekly.csv). "
      ]
    },
    {
      "cell_type": "markdown",
      "metadata": {
        "id": "B3MJnZXNThF_",
        "colab_type": "text"
      },
      "source": [
        "### Step 3. Assign it to a variable called "
      ]
    },
    {
      "cell_type": "code",
      "metadata": {
        "id": "I8bg2mtYThGB",
        "colab_type": "code",
        "colab": {}
      },
      "source": [
        ""
      ],
      "execution_count": 0,
      "outputs": []
    },
    {
      "cell_type": "markdown",
      "metadata": {
        "id": "n9eSJVogThGE",
        "colab_type": "text"
      },
      "source": [
        "### Step 4.  What is the frequency of the dataset?"
      ]
    },
    {
      "cell_type": "code",
      "metadata": {
        "id": "2nEGKgA5ThGF",
        "colab_type": "code",
        "colab": {}
      },
      "source": [
        ""
      ],
      "execution_count": 0,
      "outputs": []
    },
    {
      "cell_type": "markdown",
      "metadata": {
        "id": "WjIb9qKhThGJ",
        "colab_type": "text"
      },
      "source": [
        "### Step 5. Set the column Date as the index."
      ]
    },
    {
      "cell_type": "code",
      "metadata": {
        "id": "qXdIZggdThGK",
        "colab_type": "code",
        "colab": {}
      },
      "source": [
        ""
      ],
      "execution_count": 0,
      "outputs": []
    },
    {
      "cell_type": "markdown",
      "metadata": {
        "id": "Ho8ygY1RThGN",
        "colab_type": "text"
      },
      "source": [
        "### Step 6. What is the type of the index?"
      ]
    },
    {
      "cell_type": "code",
      "metadata": {
        "id": "v7TyKgkiThGO",
        "colab_type": "code",
        "colab": {}
      },
      "source": [
        ""
      ],
      "execution_count": 0,
      "outputs": []
    },
    {
      "cell_type": "markdown",
      "metadata": {
        "id": "GKU8UOQzThGR",
        "colab_type": "text"
      },
      "source": [
        "### Step 7. Set the index to a DatetimeIndex type"
      ]
    },
    {
      "cell_type": "code",
      "metadata": {
        "id": "psuqCA71ThGS",
        "colab_type": "code",
        "colab": {}
      },
      "source": [
        ""
      ],
      "execution_count": 0,
      "outputs": []
    },
    {
      "cell_type": "markdown",
      "metadata": {
        "id": "8GdSxp9AThGV",
        "colab_type": "text"
      },
      "source": [
        "### Step 8.  Change the frequency to monthly, sum the values and assign it to monthly."
      ]
    },
    {
      "cell_type": "code",
      "metadata": {
        "id": "4BaRC-QVThGX",
        "colab_type": "code",
        "colab": {}
      },
      "source": [
        ""
      ],
      "execution_count": 0,
      "outputs": []
    },
    {
      "cell_type": "markdown",
      "metadata": {
        "id": "9s0rUefzThGa",
        "colab_type": "text"
      },
      "source": [
        "### Step 9. You will notice that it filled the dataFrame with months that don't have any data with NaN. Let's drop these rows."
      ]
    },
    {
      "cell_type": "code",
      "metadata": {
        "id": "uilN-X39ThGb",
        "colab_type": "code",
        "colab": {}
      },
      "source": [
        ""
      ],
      "execution_count": 0,
      "outputs": []
    },
    {
      "cell_type": "markdown",
      "metadata": {
        "id": "aG1oZVvPThGe",
        "colab_type": "text"
      },
      "source": [
        "### Step 10. Good, now we have the monthly data. Now change the frequency to year."
      ]
    },
    {
      "cell_type": "code",
      "metadata": {
        "id": "aQmIHoXtThGf",
        "colab_type": "code",
        "colab": {}
      },
      "source": [
        ""
      ],
      "execution_count": 0,
      "outputs": []
    },
    {
      "cell_type": "markdown",
      "metadata": {
        "id": "DuZRgoyDThGk",
        "colab_type": "text"
      },
      "source": [
        "### BONUS: Create your own question and answer it."
      ]
    },
    {
      "cell_type": "code",
      "metadata": {
        "id": "s2f0d6NRThGl",
        "colab_type": "code",
        "colab": {}
      },
      "source": [
        ""
      ],
      "execution_count": 0,
      "outputs": []
    }
  ]
}