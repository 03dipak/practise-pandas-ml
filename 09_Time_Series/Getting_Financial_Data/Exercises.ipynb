{
  "nbformat": 4,
  "nbformat_minor": 0,
  "metadata": {
    "kernelspec": {
      "display_name": "Python 2",
      "language": "python",
      "name": "python2"
    },
    "language_info": {
      "codemirror_mode": {
        "name": "ipython",
        "version": 2
      },
      "file_extension": ".py",
      "mimetype": "text/x-python",
      "name": "python",
      "nbconvert_exporter": "python",
      "pygments_lexer": "ipython2",
      "version": "2.7.11"
    },
    "colab": {
      "name": "Exercises.ipynb",
      "provenance": [],
      "include_colab_link": true
    }
  },
  "cells": [
    {
      "cell_type": "markdown",
      "metadata": {
        "id": "view-in-github",
        "colab_type": "text"
      },
      "source": [
        "<a href=\"https://colab.research.google.com/github/03dipak/practise-pandas-ml/blob/master/09_Time_Series/Getting_Financial_Data/Exercises.ipynb\" target=\"_parent\"><img src=\"https://colab.research.google.com/assets/colab-badge.svg\" alt=\"Open In Colab\"/></a>"
      ]
    },
    {
      "cell_type": "markdown",
      "metadata": {
        "id": "LjrRbAG59ICP",
        "colab_type": "text"
      },
      "source": [
        "# Getting Financial Data - Google Finance"
      ]
    },
    {
      "cell_type": "markdown",
      "metadata": {
        "id": "Kn_DG5LS9ICS",
        "colab_type": "text"
      },
      "source": [
        "### Introduction:\n",
        "\n",
        "This time you will get data from a website.\n",
        "\n",
        "\n",
        "### Step 1. Import the necessary libraries"
      ]
    },
    {
      "cell_type": "code",
      "metadata": {
        "id": "nEC7Xs5t9ICT",
        "colab_type": "code",
        "colab": {}
      },
      "source": [
        "import pandas as pd\n",
        "import numpy as np"
      ],
      "execution_count": 0,
      "outputs": []
    },
    {
      "cell_type": "markdown",
      "metadata": {
        "id": "Cc-MN3PO9ICY",
        "colab_type": "text"
      },
      "source": [
        "### Step 2. Create your time range (start and end variables). The start date should be 01/01/2015 and the end should today (whatever your today is)"
      ]
    },
    {
      "cell_type": "code",
      "metadata": {
        "id": "cbHXT0n59ICZ",
        "colab_type": "code",
        "colab": {}
      },
      "source": [
        ""
      ],
      "execution_count": 0,
      "outputs": []
    },
    {
      "cell_type": "markdown",
      "metadata": {
        "id": "xcrnkivU9ICd",
        "colab_type": "text"
      },
      "source": [
        "### Step 3. Select the Apple, Tesla, Twitter, IBM, LinkedIn stocks symbols and assign them to a variable called stocks"
      ]
    },
    {
      "cell_type": "code",
      "metadata": {
        "id": "dBaa75S-9ICe",
        "colab_type": "code",
        "colab": {}
      },
      "source": [
        ""
      ],
      "execution_count": 0,
      "outputs": []
    },
    {
      "cell_type": "markdown",
      "metadata": {
        "id": "YHKW5uJC9ICh",
        "colab_type": "text"
      },
      "source": [
        "### Step 4. Read the data from google, assign to df and print it"
      ]
    },
    {
      "cell_type": "code",
      "metadata": {
        "id": "02APcF_R9ICj",
        "colab_type": "code",
        "colab": {}
      },
      "source": [
        ""
      ],
      "execution_count": 0,
      "outputs": []
    },
    {
      "cell_type": "markdown",
      "metadata": {
        "id": "oHtYSKMV9ICq",
        "colab_type": "text"
      },
      "source": [
        "### Step 5.  What is the type of structure of df ?"
      ]
    },
    {
      "cell_type": "code",
      "metadata": {
        "id": "HfDIqNnC9ICr",
        "colab_type": "code",
        "colab": {}
      },
      "source": [
        ""
      ],
      "execution_count": 0,
      "outputs": []
    },
    {
      "cell_type": "markdown",
      "metadata": {
        "id": "K13c5ta69ICu",
        "colab_type": "text"
      },
      "source": [
        "### Step 6. Print all the Items axis values\n",
        "#### To learn more about the Panel structure go to [documentation](http://pandas.pydata.org/pandas-docs/stable/dsintro.html#panel) "
      ]
    },
    {
      "cell_type": "code",
      "metadata": {
        "id": "JRXceYUz9ICv",
        "colab_type": "code",
        "colab": {}
      },
      "source": [
        ""
      ],
      "execution_count": 0,
      "outputs": []
    },
    {
      "cell_type": "markdown",
      "metadata": {
        "id": "un3GHHpD9ICy",
        "colab_type": "text"
      },
      "source": [
        "### Step 7. Good, now we know  the data avaiable. Create a dataFrame called vol, with the Volume values."
      ]
    },
    {
      "cell_type": "code",
      "metadata": {
        "id": "QFhkCR4w9ICz",
        "colab_type": "code",
        "colab": {}
      },
      "source": [
        ""
      ],
      "execution_count": 0,
      "outputs": []
    },
    {
      "cell_type": "markdown",
      "metadata": {
        "id": "Z8J9aajc9IC2",
        "colab_type": "text"
      },
      "source": [
        "### Step 8. Aggregate the data of Volume to weekly\n",
        "#### Hint: Be careful to not sum data from the same week of 2015 and other years."
      ]
    },
    {
      "cell_type": "code",
      "metadata": {
        "scrolled": true,
        "id": "5WrWrK9P9IC2",
        "colab_type": "code",
        "colab": {}
      },
      "source": [
        ""
      ],
      "execution_count": 0,
      "outputs": []
    },
    {
      "cell_type": "markdown",
      "metadata": {
        "id": "Y31Uu6Zh9IC6",
        "colab_type": "text"
      },
      "source": [
        "### Step 9. Find all the volume traded in the year of 2015"
      ]
    },
    {
      "cell_type": "code",
      "metadata": {
        "id": "EYzMLayz9IC7",
        "colab_type": "code",
        "colab": {}
      },
      "source": [
        ""
      ],
      "execution_count": 0,
      "outputs": []
    },
    {
      "cell_type": "markdown",
      "metadata": {
        "id": "sdYIQDyD9IC-",
        "colab_type": "text"
      },
      "source": [
        "### BONUS: Create your own question and answer it."
      ]
    },
    {
      "cell_type": "code",
      "metadata": {
        "id": "rsq_ek9G9IC_",
        "colab_type": "code",
        "colab": {}
      },
      "source": [
        ""
      ],
      "execution_count": 0,
      "outputs": []
    }
  ]
}