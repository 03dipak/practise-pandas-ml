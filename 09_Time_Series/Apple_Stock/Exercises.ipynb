{
  "nbformat": 4,
  "nbformat_minor": 0,
  "metadata": {
    "anaconda-cloud": {},
    "kernelspec": {
      "display_name": "Python [default]",
      "language": "python",
      "name": "python2"
    },
    "language_info": {
      "codemirror_mode": {
        "name": "ipython",
        "version": 2
      },
      "file_extension": ".py",
      "mimetype": "text/x-python",
      "name": "python",
      "nbconvert_exporter": "python",
      "pygments_lexer": "ipython2",
      "version": "2.7.12"
    },
    "colab": {
      "name": "Exercises.ipynb",
      "provenance": [],
      "include_colab_link": true
    }
  },
  "cells": [
    {
      "cell_type": "markdown",
      "metadata": {
        "id": "view-in-github",
        "colab_type": "text"
      },
      "source": [
        "<a href=\"https://colab.research.google.com/github/03dipak/practise-pandas-ml/blob/master/09_Time_Series/Apple_Stock/Exercises.ipynb\" target=\"_parent\"><img src=\"https://colab.research.google.com/assets/colab-badge.svg\" alt=\"Open In Colab\"/></a>"
      ]
    },
    {
      "cell_type": "markdown",
      "metadata": {
        "id": "CGUhoNcRiIdg",
        "colab_type": "text"
      },
      "source": [
        "# Apple Stock"
      ]
    },
    {
      "cell_type": "markdown",
      "metadata": {
        "id": "bVNQdbHxiIdk",
        "colab_type": "text"
      },
      "source": [
        "### Introduction:\n",
        "\n",
        "We are going to use Apple's stock price.\n",
        "\n",
        "\n",
        "### Step 1. Import the necessary libraries"
      ]
    },
    {
      "cell_type": "code",
      "metadata": {
        "id": "JygEPQjgiIdl",
        "colab_type": "code",
        "colab": {}
      },
      "source": [
        "import pandas as pd\n",
        "import numpy as np"
      ],
      "execution_count": 0,
      "outputs": []
    },
    {
      "cell_type": "markdown",
      "metadata": {
        "id": "uJBamMIUiIdq",
        "colab_type": "text"
      },
      "source": [
        "### Step 2. Import the dataset from this [address](https://raw.githubusercontent.com/guipsamora/pandas_exercises/master/09_Time_Series/Apple_Stock/appl_1980_2014.csv)"
      ]
    },
    {
      "cell_type": "code",
      "metadata": {
        "id": "D4Pq18yriIds",
        "colab_type": "code",
        "colab": {}
      },
      "source": [
        ""
      ],
      "execution_count": 0,
      "outputs": []
    },
    {
      "cell_type": "markdown",
      "metadata": {
        "id": "CGtHC3GbiIdw",
        "colab_type": "text"
      },
      "source": [
        "### Step 3. Assign it to a variable apple"
      ]
    },
    {
      "cell_type": "code",
      "metadata": {
        "id": "zRZRTc5giIdx",
        "colab_type": "code",
        "colab": {}
      },
      "source": [
        ""
      ],
      "execution_count": 0,
      "outputs": []
    },
    {
      "cell_type": "markdown",
      "metadata": {
        "id": "mXHiJfQWiIdz",
        "colab_type": "text"
      },
      "source": [
        "### Step 4.  Check out the type of the columns"
      ]
    },
    {
      "cell_type": "code",
      "metadata": {
        "id": "3LjMM4d6iId0",
        "colab_type": "code",
        "colab": {}
      },
      "source": [
        ""
      ],
      "execution_count": 0,
      "outputs": []
    },
    {
      "cell_type": "markdown",
      "metadata": {
        "id": "yR-F9sI3iId3",
        "colab_type": "text"
      },
      "source": [
        "### Step 5. Transform the Date column as a datetime type"
      ]
    },
    {
      "cell_type": "code",
      "metadata": {
        "id": "GRSasjlIiId5",
        "colab_type": "code",
        "colab": {}
      },
      "source": [
        ""
      ],
      "execution_count": 0,
      "outputs": []
    },
    {
      "cell_type": "markdown",
      "metadata": {
        "id": "mMTYwvU2iId8",
        "colab_type": "text"
      },
      "source": [
        "### Step 6.  Set the date as the index"
      ]
    },
    {
      "cell_type": "code",
      "metadata": {
        "id": "nMfZC9vQiId9",
        "colab_type": "code",
        "colab": {}
      },
      "source": [
        ""
      ],
      "execution_count": 0,
      "outputs": []
    },
    {
      "cell_type": "markdown",
      "metadata": {
        "id": "0nmBpyG1iIeB",
        "colab_type": "text"
      },
      "source": [
        "### Step 7.  Is there any duplicate dates?"
      ]
    },
    {
      "cell_type": "code",
      "metadata": {
        "id": "_Hx_51awiIeG",
        "colab_type": "code",
        "colab": {}
      },
      "source": [
        ""
      ],
      "execution_count": 0,
      "outputs": []
    },
    {
      "cell_type": "markdown",
      "metadata": {
        "id": "bZq1RWTeiIeI",
        "colab_type": "text"
      },
      "source": [
        "### Step 8.  Ops...it seems the index is from the most recent date. Make the first entry the oldest date."
      ]
    },
    {
      "cell_type": "code",
      "metadata": {
        "id": "ubn2tuLaiIeJ",
        "colab_type": "code",
        "colab": {}
      },
      "source": [
        ""
      ],
      "execution_count": 0,
      "outputs": []
    },
    {
      "cell_type": "markdown",
      "metadata": {
        "id": "CzR8QfoTiIeM",
        "colab_type": "text"
      },
      "source": [
        "### Step 9. Get the last business day of each month"
      ]
    },
    {
      "cell_type": "code",
      "metadata": {
        "id": "DfdOlC2qiIeN",
        "colab_type": "code",
        "colab": {}
      },
      "source": [
        ""
      ],
      "execution_count": 0,
      "outputs": []
    },
    {
      "cell_type": "markdown",
      "metadata": {
        "id": "BEBaa4tSiIeQ",
        "colab_type": "text"
      },
      "source": [
        "### Step 10.  What is the difference in days between the first day and the oldest"
      ]
    },
    {
      "cell_type": "code",
      "metadata": {
        "id": "NkvWN65LiIeR",
        "colab_type": "code",
        "colab": {}
      },
      "source": [
        ""
      ],
      "execution_count": 0,
      "outputs": []
    },
    {
      "cell_type": "markdown",
      "metadata": {
        "id": "9v5IUgOOiIeU",
        "colab_type": "text"
      },
      "source": [
        "### Step 11.  How many months in the data we have?"
      ]
    },
    {
      "cell_type": "code",
      "metadata": {
        "id": "oc9sr9GfiIeV",
        "colab_type": "code",
        "colab": {}
      },
      "source": [
        ""
      ],
      "execution_count": 0,
      "outputs": []
    },
    {
      "cell_type": "markdown",
      "metadata": {
        "id": "E1yqwREgiIeY",
        "colab_type": "text"
      },
      "source": [
        "### Step 12. Plot the 'Adj Close' value. Set the size of the figure to 13.5 x 9 inches"
      ]
    },
    {
      "cell_type": "code",
      "metadata": {
        "id": "n3GnKdxGiIeZ",
        "colab_type": "code",
        "colab": {}
      },
      "source": [
        ""
      ],
      "execution_count": 0,
      "outputs": []
    },
    {
      "cell_type": "markdown",
      "metadata": {
        "id": "HE0bQu_EiIec",
        "colab_type": "text"
      },
      "source": [
        "### BONUS: Create your own question and answer it."
      ]
    },
    {
      "cell_type": "code",
      "metadata": {
        "id": "oBtYaihOiIed",
        "colab_type": "code",
        "colab": {}
      },
      "source": [
        ""
      ],
      "execution_count": 0,
      "outputs": []
    }
  ]
}