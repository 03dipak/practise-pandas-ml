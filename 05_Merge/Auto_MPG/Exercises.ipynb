{
  "nbformat": 4,
  "nbformat_minor": 0,
  "metadata": {
    "anaconda-cloud": {},
    "kernelspec": {
      "display_name": "Python [default]",
      "language": "python",
      "name": "python2"
    },
    "language_info": {
      "codemirror_mode": {
        "name": "ipython",
        "version": 2
      },
      "file_extension": ".py",
      "mimetype": "text/x-python",
      "name": "python",
      "nbconvert_exporter": "python",
      "pygments_lexer": "ipython2",
      "version": "2.7.12"
    },
    "colab": {
      "name": "Exercises.ipynb",
      "provenance": [],
      "include_colab_link": true
    }
  },
  "cells": [
    {
      "cell_type": "markdown",
      "metadata": {
        "id": "view-in-github",
        "colab_type": "text"
      },
      "source": [
        "<a href=\"https://colab.research.google.com/github/03dipak/practise-pandas-ml/blob/master/05_Merge/Auto_MPG/Exercises.ipynb\" target=\"_parent\"><img src=\"https://colab.research.google.com/assets/colab-badge.svg\" alt=\"Open In Colab\"/></a>"
      ]
    },
    {
      "cell_type": "markdown",
      "metadata": {
        "id": "Zwp66xTWnlEy",
        "colab_type": "text"
      },
      "source": [
        "# MPG Cars"
      ]
    },
    {
      "cell_type": "markdown",
      "metadata": {
        "id": "XERG652SnlE2",
        "colab_type": "text"
      },
      "source": [
        "### Introduction:\n",
        "\n",
        "The following exercise utilizes data from [UC Irvine Machine Learning Repository](https://archive.ics.uci.edu/ml/datasets/Auto+MPG)\n",
        "\n",
        "### Step 1. Import the necessary libraries"
      ]
    },
    {
      "cell_type": "code",
      "metadata": {
        "id": "dXRF3Sh8nlE3",
        "colab_type": "code",
        "colab": {}
      },
      "source": [
        "import pandas as pd\n",
        "import numpy as np"
      ],
      "execution_count": 0,
      "outputs": []
    },
    {
      "cell_type": "markdown",
      "metadata": {
        "id": "_Q9NuAt0nlE9",
        "colab_type": "text"
      },
      "source": [
        "### Step 2. Import the first dataset [cars1](https://raw.githubusercontent.com/guipsamora/pandas_exercises/master/05_Merge/Auto_MPG/cars1.csv) and [cars2](https://raw.githubusercontent.com/guipsamora/pandas_exercises/master/05_Merge/Auto_MPG/cars2.csv).  "
      ]
    },
    {
      "cell_type": "markdown",
      "metadata": {
        "id": "btYs7QcZnlE-",
        "colab_type": "text"
      },
      "source": [
        "   ### Step 3. Assign each to a variable called cars1 and cars2"
      ]
    },
    {
      "cell_type": "code",
      "metadata": {
        "id": "zXFXtSNonlE_",
        "colab_type": "code",
        "colab": {
          "base_uri": "https://localhost:8080/",
          "height": 153
        },
        "outputId": "30a765a4-4726-44b6-ec44-3f8a94545e10"
      },
      "source": [
        "cars1 = pd.read_csv(\"https://raw.githubusercontent.com/guipsamora/pandas_exercises/master/05_Merge/Auto_MPG/cars1.csv\",sep=',')\n",
        "cars2 = pd.read_csv(\"https://raw.githubusercontent.com/guipsamora/pandas_exercises/master/05_Merge/Auto_MPG/cars2.csv\",sep=',')\n",
        "print(cars1.head())\n",
        "#print(cars2.head())"
      ],
      "execution_count": 3,
      "outputs": [
        {
          "output_type": "stream",
          "text": [
            "    mpg  cylinders  displacement  ... Unnamed: 11  Unnamed: 12  Unnamed: 13\n",
            "0  18.0          8           307  ...         NaN          NaN          NaN\n",
            "1  15.0          8           350  ...         NaN          NaN          NaN\n",
            "2  18.0          8           318  ...         NaN          NaN          NaN\n",
            "3  16.0          8           304  ...         NaN          NaN          NaN\n",
            "4  17.0          8           302  ...         NaN          NaN          NaN\n",
            "\n",
            "[5 rows x 14 columns]\n"
          ],
          "name": "stdout"
        }
      ]
    },
    {
      "cell_type": "code",
      "metadata": {
        "id": "EnWhe2Iao5RK",
        "colab_type": "code",
        "colab": {
          "base_uri": "https://localhost:8080/",
          "height": 340
        },
        "outputId": "45cb19c7-779a-4c9e-b325-4a369498e2ca"
      },
      "source": [
        "cars1.info()"
      ],
      "execution_count": 4,
      "outputs": [
        {
          "output_type": "stream",
          "text": [
            "<class 'pandas.core.frame.DataFrame'>\n",
            "RangeIndex: 198 entries, 0 to 197\n",
            "Data columns (total 14 columns):\n",
            "mpg             198 non-null float64\n",
            "cylinders       198 non-null int64\n",
            "displacement    198 non-null int64\n",
            "horsepower      198 non-null object\n",
            "weight          198 non-null int64\n",
            "acceleration    198 non-null float64\n",
            "model           198 non-null int64\n",
            "origin          198 non-null int64\n",
            "car             198 non-null object\n",
            "Unnamed: 9      0 non-null float64\n",
            "Unnamed: 10     0 non-null float64\n",
            "Unnamed: 11     0 non-null float64\n",
            "Unnamed: 12     0 non-null float64\n",
            "Unnamed: 13     0 non-null float64\n",
            "dtypes: float64(7), int64(5), object(2)\n",
            "memory usage: 21.7+ KB\n"
          ],
          "name": "stdout"
        }
      ]
    },
    {
      "cell_type": "markdown",
      "metadata": {
        "id": "sjDEFFKdnlFC",
        "colab_type": "text"
      },
      "source": [
        "### Step 4. Ops it seems our first dataset has some unnamed blank columns, fix cars1"
      ]
    },
    {
      "cell_type": "code",
      "metadata": {
        "id": "IWNfsJcPnlFD",
        "colab_type": "code",
        "colab": {
          "base_uri": "https://localhost:8080/",
          "height": 255
        },
        "outputId": "26e706d2-017b-4a0b-d5fc-e281a0b4eab7"
      },
      "source": [
        "cars1 = cars1.loc[:,'mpg':'car']\n",
        "cars1.info()"
      ],
      "execution_count": 5,
      "outputs": [
        {
          "output_type": "stream",
          "text": [
            "<class 'pandas.core.frame.DataFrame'>\n",
            "RangeIndex: 198 entries, 0 to 197\n",
            "Data columns (total 9 columns):\n",
            "mpg             198 non-null float64\n",
            "cylinders       198 non-null int64\n",
            "displacement    198 non-null int64\n",
            "horsepower      198 non-null object\n",
            "weight          198 non-null int64\n",
            "acceleration    198 non-null float64\n",
            "model           198 non-null int64\n",
            "origin          198 non-null int64\n",
            "car             198 non-null object\n",
            "dtypes: float64(2), int64(5), object(2)\n",
            "memory usage: 14.0+ KB\n"
          ],
          "name": "stdout"
        }
      ]
    },
    {
      "cell_type": "code",
      "metadata": {
        "id": "FsgWhdExtByQ",
        "colab_type": "code",
        "colab": {
          "base_uri": "https://localhost:8080/",
          "height": 255
        },
        "outputId": "f5f8d309-e1cb-4d07-85e8-a02027571329"
      },
      "source": [
        "cars2.info()"
      ],
      "execution_count": 8,
      "outputs": [
        {
          "output_type": "stream",
          "text": [
            "<class 'pandas.core.frame.DataFrame'>\n",
            "RangeIndex: 200 entries, 0 to 199\n",
            "Data columns (total 9 columns):\n",
            "mpg             200 non-null float64\n",
            "cylinders       200 non-null int64\n",
            "displacement    200 non-null int64\n",
            "horsepower      200 non-null object\n",
            "weight          200 non-null int64\n",
            "acceleration    200 non-null float64\n",
            "model           200 non-null int64\n",
            "origin          200 non-null int64\n",
            "car             200 non-null object\n",
            "dtypes: float64(2), int64(5), object(2)\n",
            "memory usage: 14.1+ KB\n"
          ],
          "name": "stdout"
        }
      ]
    },
    {
      "cell_type": "markdown",
      "metadata": {
        "id": "-CKtf6wanlFF",
        "colab_type": "text"
      },
      "source": [
        "### Step 5. What is the number of observations in each dataset?"
      ]
    },
    {
      "cell_type": "code",
      "metadata": {
        "id": "J9zCpFTlnlFG",
        "colab_type": "code",
        "colab": {
          "base_uri": "https://localhost:8080/",
          "height": 51
        },
        "outputId": "0996f426-d4d5-42cf-f965-317eab6c7e84"
      },
      "source": [
        "print(cars1.shape)\n",
        "print(cars2.shape)"
      ],
      "execution_count": 7,
      "outputs": [
        {
          "output_type": "stream",
          "text": [
            "(198, 9)\n",
            "(200, 9)\n"
          ],
          "name": "stdout"
        }
      ]
    },
    {
      "cell_type": "markdown",
      "metadata": {
        "id": "gxCOlb2-nlFJ",
        "colab_type": "text"
      },
      "source": [
        "### Step 6. Join cars1 and cars2 into a single DataFrame called cars"
      ]
    },
    {
      "cell_type": "code",
      "metadata": {
        "id": "B_2Xb3wWnlFK",
        "colab_type": "code",
        "colab": {
          "base_uri": "https://localhost:8080/",
          "height": 255
        },
        "outputId": "00c099db-acd5-4a39-854b-4deae374b2ab"
      },
      "source": [
        "cars = cars1.append(cars2)\n",
        "cars.info()"
      ],
      "execution_count": 9,
      "outputs": [
        {
          "output_type": "stream",
          "text": [
            "<class 'pandas.core.frame.DataFrame'>\n",
            "Int64Index: 398 entries, 0 to 199\n",
            "Data columns (total 9 columns):\n",
            "mpg             398 non-null float64\n",
            "cylinders       398 non-null int64\n",
            "displacement    398 non-null int64\n",
            "horsepower      398 non-null object\n",
            "weight          398 non-null int64\n",
            "acceleration    398 non-null float64\n",
            "model           398 non-null int64\n",
            "origin          398 non-null int64\n",
            "car             398 non-null object\n",
            "dtypes: float64(2), int64(5), object(2)\n",
            "memory usage: 31.1+ KB\n"
          ],
          "name": "stdout"
        }
      ]
    },
    {
      "cell_type": "markdown",
      "metadata": {
        "id": "Mjt0s8pvnlFN",
        "colab_type": "text"
      },
      "source": [
        "### Step 7. Ops there is a column missing, called owners. Create a random number Series from 15,000 to 73,000."
      ]
    },
    {
      "cell_type": "code",
      "metadata": {
        "id": "3N7rwNz-nlFO",
        "colab_type": "code",
        "colab": {
          "base_uri": "https://localhost:8080/",
          "height": 782
        },
        "outputId": "f42e6716-eba7-4705-d20e-a95031197169"
      },
      "source": [
        "owners = np.random.randint(15000,high=73000,size=398,dtype='l')\n",
        "owners"
      ],
      "execution_count": 11,
      "outputs": [
        {
          "output_type": "execute_result",
          "data": {
            "text/plain": [
              "array([63167, 45572, 19207, 26548, 67733, 41914, 61606, 15908, 67024,\n",
              "       50404, 27371, 46929, 39606, 29751, 71576, 56710, 56844, 67904,\n",
              "       16149, 72578, 55806, 26455, 35414, 70992, 15670, 45527, 27499,\n",
              "       22704, 17993, 64371, 39556, 47724, 26157, 36383, 52990, 29752,\n",
              "       65079, 51088, 72692, 24670, 65456, 42967, 58151, 47704, 26955,\n",
              "       26775, 58487, 35891, 33079, 52238, 54820, 69444, 50789, 35066,\n",
              "       65962, 19405, 19544, 64898, 60843, 70443, 23318, 44219, 72725,\n",
              "       16722, 66573, 43074, 72837, 47155, 49092, 54228, 60399, 56300,\n",
              "       33974, 52772, 51321, 31159, 41889, 39401, 23510, 60245, 48197,\n",
              "       50156, 58238, 69604, 18694, 53223, 38660, 68722, 31838, 47912,\n",
              "       53150, 19073, 19634, 63038, 72286, 18475, 50181, 50477, 52544,\n",
              "       20009, 22417, 36454, 54471, 50893, 29289, 47833, 32249, 46001,\n",
              "       62363, 22077, 64407, 47051, 51591, 38207, 25967, 65236, 36586,\n",
              "       56144, 21200, 26110, 53957, 72413, 31088, 72887, 29925, 52935,\n",
              "       70442, 34610, 19596, 19994, 22036, 50966, 50655, 51299, 38922,\n",
              "       72500, 55024, 72615, 35351, 62190, 66319, 40298, 53984, 39630,\n",
              "       31350, 34792, 48395, 61097, 50584, 55706, 68608, 45978, 39131,\n",
              "       70361, 36531, 57319, 68352, 19882, 30416, 20549, 44820, 58238,\n",
              "       44328, 21580, 55383, 31574, 58000, 63085, 33908, 45120, 45772,\n",
              "       55568, 45838, 36667, 64407, 23337, 64018, 27817, 27453, 69281,\n",
              "       44932, 53257, 48354, 57711, 47819, 15989, 17370, 69751, 32354,\n",
              "       71386, 33458, 66612, 40297, 57424, 22579, 15251, 48308, 70408,\n",
              "       56654, 60667, 39813, 40646, 65732, 40049, 67216, 32280, 54562,\n",
              "       33831, 32691, 48643, 36462, 34947, 18880, 28550, 39115, 16029,\n",
              "       67713, 69650, 19657, 24763, 26835, 19995, 15891, 30280, 61033,\n",
              "       34528, 20432, 18539, 70660, 61666, 64553, 59733, 18082, 19539,\n",
              "       66700, 69821, 24054, 25460, 15757, 24126, 71403, 49110, 48324,\n",
              "       19564, 26339, 34781, 34912, 46421, 18303, 60949, 67072, 28473,\n",
              "       52606, 39811, 55501, 59245, 46777, 29217, 55143, 51218, 47289,\n",
              "       40077, 52869, 53509, 28831, 57296, 19769, 52058, 64877, 24763,\n",
              "       33546, 32542, 62973, 60820, 49484, 50570, 18657, 40478, 39827,\n",
              "       63218, 68936, 38944, 29295, 36405, 51148, 28926, 50896, 51827,\n",
              "       69142, 17525, 72333, 26961, 70680, 15882, 38554, 24132, 32594,\n",
              "       46706, 34145, 19308, 46231, 37866, 22473, 16406, 42560, 29990,\n",
              "       23377, 55677, 48602, 44291, 69244, 52881, 46697, 56225, 18413,\n",
              "       50710, 22722, 64378, 55251, 41446, 19770, 71105, 50331, 19149,\n",
              "       70978, 39610, 24278, 36860, 44066, 56389, 57769, 48318, 33632,\n",
              "       51525, 60262, 32154, 58111, 35877, 15982, 35269, 16232, 45364,\n",
              "       55642, 44843, 15277, 62146, 37083, 57747, 34766, 33716, 33651,\n",
              "       15280, 28218, 40212, 47768, 19929, 52712, 68135, 47347, 62859,\n",
              "       42958, 59180, 36645, 33689, 39473, 65422, 27110, 42954, 20255,\n",
              "       60699, 39289, 34197, 38956, 41078, 20465, 48824, 26140, 42302,\n",
              "       67982, 23248, 49053, 53221, 28830, 33843, 25240, 32015, 28560,\n",
              "       27458, 56565, 47228, 42130, 31130, 68858, 25964, 46498, 30357,\n",
              "       62910, 58914])"
            ]
          },
          "metadata": {
            "tags": []
          },
          "execution_count": 11
        }
      ]
    },
    {
      "cell_type": "markdown",
      "metadata": {
        "id": "LwRIuWasnlFR",
        "colab_type": "text"
      },
      "source": [
        "### Step 8. Add the column owners to cars"
      ]
    },
    {
      "cell_type": "code",
      "metadata": {
        "id": "fIw5KOlVnlFT",
        "colab_type": "code",
        "colab": {
          "base_uri": "https://localhost:8080/",
          "height": 204
        },
        "outputId": "d2d91a5a-3db3-435f-8aeb-b92c13610030"
      },
      "source": [
        "cars['owners'] = owners\n",
        "cars.head()"
      ],
      "execution_count": 12,
      "outputs": [
        {
          "output_type": "execute_result",
          "data": {
            "text/html": [
              "<div>\n",
              "<style scoped>\n",
              "    .dataframe tbody tr th:only-of-type {\n",
              "        vertical-align: middle;\n",
              "    }\n",
              "\n",
              "    .dataframe tbody tr th {\n",
              "        vertical-align: top;\n",
              "    }\n",
              "\n",
              "    .dataframe thead th {\n",
              "        text-align: right;\n",
              "    }\n",
              "</style>\n",
              "<table border=\"1\" class=\"dataframe\">\n",
              "  <thead>\n",
              "    <tr style=\"text-align: right;\">\n",
              "      <th></th>\n",
              "      <th>mpg</th>\n",
              "      <th>cylinders</th>\n",
              "      <th>displacement</th>\n",
              "      <th>horsepower</th>\n",
              "      <th>weight</th>\n",
              "      <th>acceleration</th>\n",
              "      <th>model</th>\n",
              "      <th>origin</th>\n",
              "      <th>car</th>\n",
              "      <th>owners</th>\n",
              "    </tr>\n",
              "  </thead>\n",
              "  <tbody>\n",
              "    <tr>\n",
              "      <th>0</th>\n",
              "      <td>18.0</td>\n",
              "      <td>8</td>\n",
              "      <td>307</td>\n",
              "      <td>130</td>\n",
              "      <td>3504</td>\n",
              "      <td>12.0</td>\n",
              "      <td>70</td>\n",
              "      <td>1</td>\n",
              "      <td>chevrolet chevelle malibu</td>\n",
              "      <td>63167</td>\n",
              "    </tr>\n",
              "    <tr>\n",
              "      <th>1</th>\n",
              "      <td>15.0</td>\n",
              "      <td>8</td>\n",
              "      <td>350</td>\n",
              "      <td>165</td>\n",
              "      <td>3693</td>\n",
              "      <td>11.5</td>\n",
              "      <td>70</td>\n",
              "      <td>1</td>\n",
              "      <td>buick skylark 320</td>\n",
              "      <td>45572</td>\n",
              "    </tr>\n",
              "    <tr>\n",
              "      <th>2</th>\n",
              "      <td>18.0</td>\n",
              "      <td>8</td>\n",
              "      <td>318</td>\n",
              "      <td>150</td>\n",
              "      <td>3436</td>\n",
              "      <td>11.0</td>\n",
              "      <td>70</td>\n",
              "      <td>1</td>\n",
              "      <td>plymouth satellite</td>\n",
              "      <td>19207</td>\n",
              "    </tr>\n",
              "    <tr>\n",
              "      <th>3</th>\n",
              "      <td>16.0</td>\n",
              "      <td>8</td>\n",
              "      <td>304</td>\n",
              "      <td>150</td>\n",
              "      <td>3433</td>\n",
              "      <td>12.0</td>\n",
              "      <td>70</td>\n",
              "      <td>1</td>\n",
              "      <td>amc rebel sst</td>\n",
              "      <td>26548</td>\n",
              "    </tr>\n",
              "    <tr>\n",
              "      <th>4</th>\n",
              "      <td>17.0</td>\n",
              "      <td>8</td>\n",
              "      <td>302</td>\n",
              "      <td>140</td>\n",
              "      <td>3449</td>\n",
              "      <td>10.5</td>\n",
              "      <td>70</td>\n",
              "      <td>1</td>\n",
              "      <td>ford torino</td>\n",
              "      <td>67733</td>\n",
              "    </tr>\n",
              "  </tbody>\n",
              "</table>\n",
              "</div>"
            ],
            "text/plain": [
              "    mpg  cylinders  displacement  ... origin                        car  owners\n",
              "0  18.0          8           307  ...      1  chevrolet chevelle malibu   63167\n",
              "1  15.0          8           350  ...      1          buick skylark 320   45572\n",
              "2  18.0          8           318  ...      1         plymouth satellite   19207\n",
              "3  16.0          8           304  ...      1              amc rebel sst   26548\n",
              "4  17.0          8           302  ...      1                ford torino   67733\n",
              "\n",
              "[5 rows x 10 columns]"
            ]
          },
          "metadata": {
            "tags": []
          },
          "execution_count": 12
        }
      ]
    },
    {
      "cell_type": "code",
      "metadata": {
        "id": "h8a2OGT7uLxl",
        "colab_type": "code",
        "colab": {}
      },
      "source": [
        ""
      ],
      "execution_count": 0,
      "outputs": []
    }
  ]
}