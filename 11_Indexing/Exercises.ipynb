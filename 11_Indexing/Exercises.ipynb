{
  "nbformat": 4,
  "nbformat_minor": 0,
  "metadata": {
    "anaconda-cloud": {},
    "kernelspec": {
      "display_name": "Python [default]",
      "language": "python",
      "name": "python2"
    },
    "language_info": {
      "codemirror_mode": {
        "name": "ipython",
        "version": 2
      },
      "file_extension": ".py",
      "mimetype": "text/x-python",
      "name": "python",
      "nbconvert_exporter": "python",
      "pygments_lexer": "ipython2",
      "version": "2.7.12"
    },
    "colab": {
      "name": "Exercises.ipynb",
      "provenance": [],
      "include_colab_link": true
    }
  },
  "cells": [
    {
      "cell_type": "markdown",
      "metadata": {
        "id": "view-in-github",
        "colab_type": "text"
      },
      "source": [
        "<a href=\"https://colab.research.google.com/github/03dipak/practise-pandas-ml/blob/master/11_Indexing/Exercises.ipynb\" target=\"_parent\"><img src=\"https://colab.research.google.com/assets/colab-badge.svg\" alt=\"Open In Colab\"/></a>"
      ]
    },
    {
      "cell_type": "markdown",
      "metadata": {
        "id": "tk10Eh8d3N9j",
        "colab_type": "text"
      },
      "source": [
        "# Ex - "
      ]
    },
    {
      "cell_type": "markdown",
      "metadata": {
        "id": "VKVEQerD3N9m",
        "colab_type": "text"
      },
      "source": [
        "### Introduction:\n",
        "\n",
        "This time you will create a data \n",
        "\n",
        "Special thanks to: https://github.com/justmarkham for sharing the dataset and materials.\n",
        "\n",
        "### Step 1. Import the necessary libraries"
      ]
    },
    {
      "cell_type": "code",
      "metadata": {
        "id": "PjPPQfRx3N9o",
        "colab_type": "code",
        "colab": {}
      },
      "source": [
        "import pandas as pd\n",
        "import numpy as np"
      ],
      "execution_count": 0,
      "outputs": []
    },
    {
      "cell_type": "markdown",
      "metadata": {
        "id": "DVUbctvG3N9s",
        "colab_type": "text"
      },
      "source": [
        "### Step 2. Import the dataset from this [address](https://raw.githubusercontent.com/justmarkham/DAT8/master/data/chipotle.tsv). "
      ]
    },
    {
      "cell_type": "markdown",
      "metadata": {
        "id": "HmqeAbtA3N9t",
        "colab_type": "text"
      },
      "source": [
        "### Step 3. Assign it to a variable called "
      ]
    },
    {
      "cell_type": "code",
      "metadata": {
        "id": "jLJWNKkd3N9u",
        "colab_type": "code",
        "colab": {}
      },
      "source": [
        ""
      ],
      "execution_count": 0,
      "outputs": []
    },
    {
      "cell_type": "markdown",
      "metadata": {
        "id": "bE-mbpA93N9z",
        "colab_type": "text"
      },
      "source": [
        "### Step 4. "
      ]
    },
    {
      "cell_type": "code",
      "metadata": {
        "id": "diMziZPD3N90",
        "colab_type": "code",
        "colab": {}
      },
      "source": [
        ""
      ],
      "execution_count": 0,
      "outputs": []
    },
    {
      "cell_type": "markdown",
      "metadata": {
        "id": "fdDBJxTg3N93",
        "colab_type": "text"
      },
      "source": [
        "### Step 5. "
      ]
    },
    {
      "cell_type": "code",
      "metadata": {
        "id": "jPpHM39L3N94",
        "colab_type": "code",
        "colab": {}
      },
      "source": [
        ""
      ],
      "execution_count": 0,
      "outputs": []
    },
    {
      "cell_type": "markdown",
      "metadata": {
        "id": "AECedBzE3N97",
        "colab_type": "text"
      },
      "source": [
        "### Step 6. "
      ]
    },
    {
      "cell_type": "code",
      "metadata": {
        "id": "_qzpEwx23N98",
        "colab_type": "code",
        "colab": {}
      },
      "source": [
        ""
      ],
      "execution_count": 0,
      "outputs": []
    },
    {
      "cell_type": "markdown",
      "metadata": {
        "id": "udeHySpx3N9_",
        "colab_type": "text"
      },
      "source": [
        "### Step 7. "
      ]
    },
    {
      "cell_type": "code",
      "metadata": {
        "id": "jZDN_7a93N-A",
        "colab_type": "code",
        "colab": {}
      },
      "source": [
        ""
      ],
      "execution_count": 0,
      "outputs": []
    },
    {
      "cell_type": "markdown",
      "metadata": {
        "id": "6ASm4AMq3N-D",
        "colab_type": "text"
      },
      "source": [
        "### Step 8. "
      ]
    },
    {
      "cell_type": "code",
      "metadata": {
        "id": "E-4mkITp3N-F",
        "colab_type": "code",
        "colab": {}
      },
      "source": [
        ""
      ],
      "execution_count": 0,
      "outputs": []
    },
    {
      "cell_type": "markdown",
      "metadata": {
        "id": "CR-UJryd3N-I",
        "colab_type": "text"
      },
      "source": [
        "### Step 9. "
      ]
    },
    {
      "cell_type": "code",
      "metadata": {
        "id": "AXOXVQnu3N-J",
        "colab_type": "code",
        "colab": {}
      },
      "source": [
        ""
      ],
      "execution_count": 0,
      "outputs": []
    },
    {
      "cell_type": "markdown",
      "metadata": {
        "id": "OPF2COMG3N-M",
        "colab_type": "text"
      },
      "source": [
        "### Step 10. "
      ]
    },
    {
      "cell_type": "code",
      "metadata": {
        "id": "fjLCFSWz3N-N",
        "colab_type": "code",
        "colab": {}
      },
      "source": [
        ""
      ],
      "execution_count": 0,
      "outputs": []
    },
    {
      "cell_type": "markdown",
      "metadata": {
        "id": "DQSqUMK-3N-T",
        "colab_type": "text"
      },
      "source": [
        "### Step 11. "
      ]
    },
    {
      "cell_type": "code",
      "metadata": {
        "id": "bvF_Jwdq3N-U",
        "colab_type": "code",
        "colab": {}
      },
      "source": [
        ""
      ],
      "execution_count": 0,
      "outputs": []
    },
    {
      "cell_type": "markdown",
      "metadata": {
        "id": "nAzmdGLd3N-X",
        "colab_type": "text"
      },
      "source": [
        "### Step 12. "
      ]
    },
    {
      "cell_type": "code",
      "metadata": {
        "id": "deFlfoBT3N-Y",
        "colab_type": "code",
        "colab": {}
      },
      "source": [
        ""
      ],
      "execution_count": 0,
      "outputs": []
    },
    {
      "cell_type": "markdown",
      "metadata": {
        "id": "7GcLjdNl3N-b",
        "colab_type": "text"
      },
      "source": [
        "### Step 13. "
      ]
    },
    {
      "cell_type": "code",
      "metadata": {
        "id": "lWUuNo4O3N-c",
        "colab_type": "code",
        "colab": {}
      },
      "source": [
        ""
      ],
      "execution_count": 0,
      "outputs": []
    },
    {
      "cell_type": "markdown",
      "metadata": {
        "id": "bb3jVyBa3N-e",
        "colab_type": "text"
      },
      "source": [
        "### Step 14. "
      ]
    },
    {
      "cell_type": "code",
      "metadata": {
        "id": "cE2sZRsn3N-f",
        "colab_type": "code",
        "colab": {}
      },
      "source": [
        ""
      ],
      "execution_count": 0,
      "outputs": []
    },
    {
      "cell_type": "markdown",
      "metadata": {
        "id": "WjJTjeB93N-j",
        "colab_type": "text"
      },
      "source": [
        "### Step 15. "
      ]
    },
    {
      "cell_type": "code",
      "metadata": {
        "id": "dpNZpW8M3N-k",
        "colab_type": "code",
        "colab": {}
      },
      "source": [
        ""
      ],
      "execution_count": 0,
      "outputs": []
    },
    {
      "cell_type": "markdown",
      "metadata": {
        "id": "mo1iuyj13N-n",
        "colab_type": "text"
      },
      "source": [
        "### Step 16. "
      ]
    },
    {
      "cell_type": "code",
      "metadata": {
        "id": "a2klYUPN3N-o",
        "colab_type": "code",
        "colab": {}
      },
      "source": [
        ""
      ],
      "execution_count": 0,
      "outputs": []
    },
    {
      "cell_type": "markdown",
      "metadata": {
        "id": "dQGf4jYC3N-r",
        "colab_type": "text"
      },
      "source": [
        "### BONUS: Create your own question and answer it."
      ]
    },
    {
      "cell_type": "code",
      "metadata": {
        "id": "tKzDCj1V3N-s",
        "colab_type": "code",
        "colab": {}
      },
      "source": [
        ""
      ],
      "execution_count": 0,
      "outputs": []
    }
  ]
}